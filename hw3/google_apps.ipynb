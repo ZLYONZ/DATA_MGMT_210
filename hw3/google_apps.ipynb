{
 "cells": [
  {
   "cell_type": "markdown",
   "id": "23736e16-c67c-4e32-bda0-56f041382c07",
   "metadata": {},
   "source": [
    "### Preprocessing (28 pts) ###"
   ]
  },
  {
   "cell_type": "code",
   "execution_count": null,
   "id": "73a7a5f8-f810-4c01-a7cc-d42b04f0f180",
   "metadata": {},
   "outputs": [],
   "source": [
    "import pandas as pd\n",
    "import numpy as np\n",
    "ga = pd.read_excel('GooglePlaystore.xlsx')\n",
    "ga.shape"
   ]
  },
  {
   "cell_type": "markdown",
   "id": "b3c68088-98b8-4e49-b0d5-9b5b2c6eebac",
   "metadata": {},
   "source": [
    "1. [3 pts] Often there are outliers which do not match the overall data type. There is one record in this data where the \"Reviews\" has value \"3.0M\" which does not match the rest of the data. Remove that record."
   ]
  },
  {
   "cell_type": "code",
   "execution_count": null,
   "id": "49e788d6-aa2b-44ff-8d47-8cab53767483",
   "metadata": {},
   "outputs": [],
   "source": [
    "ga = ga[ga.Reviews != '3.0M']\n",
    "ga.shape"
   ]
  },
  {
   "cell_type": "markdown",
   "id": "779b2dbb-849c-4e68-bc4b-b23e0c587f57",
   "metadata": {},
   "source": [
    "2. [4 pts] Remove rows where any of the columns has the value \"Varies with device\"."
   ]
  },
  {
   "cell_type": "code",
   "execution_count": null,
   "id": "5aa39098-ed13-44da-a492-6301805f9482",
   "metadata": {},
   "outputs": [],
   "source": [
    "for col in ga.columns:\n",
    "    if ga[col].dtype != float:\n",
    "        ga = ga[ga[col]!= 'Varies with device']\n",
    "ga.shape"
   ]
  },
  {
   "cell_type": "markdown",
   "id": "8f4e1689-a9af-403d-a0b3-c55d5dcfbe25",
   "metadata": {},
   "source": [
    "3. [5 pts] The values in the Android version column should be floats. Strip the trailing non-numeric characters from all values (ie. the words \" and up\"), so the result is a number. If there are multiple decimal places (eg. \"x.y.z\"), keep only the first two parts (eg \"x.y\"). For example, the value \"4.1 and up\" should be changed to \"4.1\". The value \"4.5.6 and up\" should be changed to \"4.5\". The value \"5.6.7\" should be changed to \"5.6\".\n",
    "\n",
    "If there is a range (eg. 5.0 - 8.0), only consider the first number. For example, the value \"5.0 - 8.0\" should be changed to \"5.0\". The value \"4.0.3 - 7.1.1\" should be changed to \"4.0\"."
   ]
  },
  {
   "cell_type": "code",
   "execution_count": null,
   "id": "4c14d836-65cc-4c32-a8b9-1e121f682e7f",
   "metadata": {},
   "outputs": [],
   "source": [
    "def change_ver(x):\n",
    "    try:\n",
    "        return x[:3]\n",
    "    except:\n",
    "        return x\n",
    "ga['Android Ver'] = ga['Android Ver'].apply(change_ver)\n",
    "ga.head()"
   ]
  },
  {
   "cell_type": "markdown",
   "id": "aabb5b53-844b-404c-aeb9-d541314e0d57",
   "metadata": {},
   "source": [
    "4. [5 pts] The \"Installs\" column must have integer values. For values that have commas, remove the commas. For values that have a '+' at the end, remove the '+'. Keep only those rows that have an integer value after these edits."
   ]
  },
  {
   "cell_type": "code",
   "execution_count": null,
   "id": "bbca25e5-4d0c-4677-98c4-9c47d20c272c",
   "metadata": {},
   "outputs": [],
   "source": [
    "ga['Installs'].replace('\\,','', regex=True, inplace=True) \n",
    "ga['Installs'].replace('\\+','', regex=True, inplace=True) \n",
    "ga['Installs'] = ga['Installs'].astype(int)\n",
    "ga.head()"
   ]
  },
  {
   "cell_type": "markdown",
   "id": "45786d51-fcb0-4113-83d6-5b2b19f0a3ff",
   "metadata": {},
   "source": [
    "5. [5 pts] For missing rating values, if the number of reviews is less than 100 and installations is less than 50000, remove the row. Else, fill the missing value with the average value (rounded to 2 decimal places) for the Category of that row."
   ]
  },
  {
   "cell_type": "code",
   "execution_count": null,
   "id": "3f3fd23b-8d3a-4b54-88ba-ab2d51952b30",
   "metadata": {},
   "outputs": [],
   "source": [
    "tmp = ga[((ga['Rating'].isna()) & (ga['Reviews'] < 100) & (ga['Installs'] < 50000))]\n",
    "ga.drop(labels=tmp.index, inplace=True)\n",
    "avg = ga.groupby('Category')['Rating'].mean()\n",
    "dfs = []\n",
    "for cate in ga['Category'].unique():\n",
    "    tmp = ga[ga['Category']==cate]\n",
    "    tmp['Rating'].fillna(round(avg[cate],2), inplace=True)\n",
    "    dfs.append(tmp)\n",
    "ga = pd.concat(dfs)\n",
    "ga.head()"
   ]
  },
  {
   "cell_type": "markdown",
   "id": "c8190ce6-0404-4f9d-b5d9-44763ab10808",
   "metadata": {},
   "source": [
    "6. [6 pts] Preprocess the Size column to convert the \"M\" (millions) and \"K\" (thousands) values into integers. For instance, 8.7M should be converted to 8700000 and 2.4K should be converted to 2400."
   ]
  },
  {
   "cell_type": "code",
   "execution_count": null,
   "id": "cc3c0663-9f8a-4bdd-b019-0975430e9de5",
   "metadata": {},
   "outputs": [],
   "source": [
    "ga['Size'] = ga['Size'].replace({'M':'*1e6', 'K':'*1e3', 'k':'*1e3'}, regex=True).map(pd.eval).astype(int)\n",
    "ga.head()"
   ]
  },
  {
   "cell_type": "markdown",
   "id": "2737d411-6e49-48de-8a98-e82ae3dfd4c3",
   "metadata": {},
   "source": [
    "### Analysis (17 pts) ###"
   ]
  },
  {
   "cell_type": "markdown",
   "id": "1cbedd09-6296-48bb-b531-fa8a24b4236f",
   "metadata": {},
   "source": [
    "1. [4 pts] Describe (use DataFrame describe method) the category wise rating statistics. In other words, for each category, describe the statistics (count, mean, etc.) for ratings in that category."
   ]
  },
  {
   "cell_type": "code",
   "execution_count": null,
   "id": "b2f275b5-2095-4c0f-95bc-e55e9d0b9665",
   "metadata": {},
   "outputs": [],
   "source": [
    "ga.groupby('Category')['Rating'].describe()"
   ]
  },
  {
   "cell_type": "markdown",
   "id": "4678819d-42d2-48fb-b4e8-7c113c9e349d",
   "metadata": {},
   "source": [
    "2. [11 pts] Extract all \"Free\" apps from the master data frame. Then write a function that, given a numeric column e.g 'Rating'), will create and return a dataframe for the top 3 free applications in each category based on that column. Call the function on each of these columns:\n",
    "Rating (gives top 3 most highly rated applications in each category)\n",
    "Installs (gives top 3 most installed applications in each category)\n",
    "Reviews (gives top 3 most reviewed applications in each category)\n",
    "You don't need to do anything explicit to break ties.\n",
    "\n",
    "Each of the returned dataframes have Category and App for the first two columns, and one of Rating (for a.), Installs (for b.), and Reviews (for c.) as the third column."
   ]
  },
  {
   "cell_type": "code",
   "execution_count": null,
   "id": "f43a23a5-75c5-4e6a-8ec8-9286cea08f44",
   "metadata": {},
   "outputs": [],
   "source": [
    "def free_data(type, ga):\n",
    "    data_free = ga[ga['Type'] == 'Free']\n",
    "    for cate in data_free.groupby('Category'):\n",
    "        yield (cate[1].sort_values(by=type, ascending=False)[['Category', 'App', type]].iloc[:3])\n",
    "\n",
    "for df in free_data('Rating', ga):\n",
    "    print(df[['Category', 'App', 'Rating']])\n",
    "    \n",
    "for df in free_data('Installs', ga):\n",
    "    print(df[['Category', 'App', 'Installs']])\n",
    "    \n",
    "for df in free_data('Reviews', ga):\n",
    "    print(df[['Category', 'App', 'Reviews']])"
   ]
  },
  {
   "cell_type": "markdown",
   "id": "f4f1cae0-ef22-40f4-bfc1-133f1411b94d",
   "metadata": {},
   "source": [
    "3. [4 pts] Find the average, maximum and minimum price of the paid applications."
   ]
  },
  {
   "cell_type": "code",
   "execution_count": null,
   "id": "05c14d9a-b9dd-44a2-8f35-fa14d199d8c1",
   "metadata": {},
   "outputs": [],
   "source": [
    "print('Average:', ga[(ga['Type'] == 'Paid')]['Price'].mean())\n",
    "print('Maximum:', ga[(ga['Type'] == 'Paid')]['Price'].max())\n",
    "print('Minimum:', ga[(ga['Type'] == 'Paid')]['Price'].min())"
   ]
  },
  {
   "cell_type": "markdown",
   "id": "ca97ce17-d1f5-49b5-9f6c-621bfc584bfc",
   "metadata": {},
   "source": [
    "### Visualization (16 pts) ###"
   ]
  },
  {
   "cell_type": "code",
   "execution_count": null,
   "id": "679470af-46dd-4b49-9a28-affc031151b7",
   "metadata": {},
   "outputs": [],
   "source": [
    "import matplotlib.pyplot as plt"
   ]
  },
  {
   "cell_type": "markdown",
   "id": "bc8ac056-61ff-40b6-b519-1b6ff48d482a",
   "metadata": {},
   "source": [
    "1. [9 pts] In the genre column, break the string of genres into a list. For example, ‘Art & Design; Creativity’ should be [‘Art & Design’, Creativity’].\n",
    "Count the number of applications per genre and display it using a pie chart.\n",
    "Hint: Read about DataFrame.explode()"
   ]
  },
  {
   "cell_type": "code",
   "execution_count": null,
   "id": "d3e974ff-20f0-4a2c-85d8-22401276d477",
   "metadata": {},
   "outputs": [],
   "source": [
    "ga['Genres'] = ga['Genres'].str.split(';')\n",
    "ga = ga.explode('Genres')\n",
    "genre = ga.groupby('Genres')['Genres'].count()\n",
    "genre.plot.pie(figsize=(15,15), fontsize=7, autopct='%.1f%%')\n",
    "plt.legend(loc=2, prop={'size': 8})\n",
    "plt.show()"
   ]
  },
  {
   "cell_type": "markdown",
   "id": "17c58916-e7d5-4d2a-a2e5-83cc1e92453a",
   "metadata": {},
   "source": [
    "2. [7 pts] Display a box plot of ratings for \"Business\" and \"Education\" categories. The boxplots should be in the same plot."
   ]
  },
  {
   "cell_type": "code",
   "execution_count": null,
   "id": "5ce53550-2b9e-46ad-b050-181ecd040f14",
   "metadata": {},
   "outputs": [],
   "source": [
    "plt.boxplot([ga[ga['Category'] == 'BUSINESS']['Rating'],\n",
    "             ga[ga['Category'] == 'EDUCATION']['Rating']], \n",
    "            labels=['BUSINESS','EDUCATION'])\n",
    "plt.grid()\n",
    "plt.show()"
   ]
  }
 ],
 "metadata": {
  "kernelspec": {
   "display_name": "Python 3",
   "language": "python",
   "name": "python3"
  },
  "language_info": {
   "codemirror_mode": {
    "name": "ipython",
    "version": 3
   },
   "file_extension": ".py",
   "mimetype": "text/x-python",
   "name": "python",
   "nbconvert_exporter": "python",
   "pygments_lexer": "ipython3",
   "version": "3.8.8"
  }
 },
 "nbformat": 4,
 "nbformat_minor": 5
}
