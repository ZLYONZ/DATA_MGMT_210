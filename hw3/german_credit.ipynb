{
 "cells": [
  {
   "cell_type": "markdown",
   "id": "23636255-88d2-452d-a01b-c71b96ba3c41",
   "metadata": {},
   "source": [
    "### Preprocessing (31 pts) ###"
   ]
  },
  {
   "cell_type": "code",
   "execution_count": null,
   "id": "aa19c9ee-0883-4bf3-8bad-53ea069583fd",
   "metadata": {},
   "outputs": [],
   "source": [
    "import pandas as pd\n",
    "import numpy as np\n",
    "gc = pd.read_csv('GermanCredit.csv')\n",
    "gc.head()"
   ]
  },
  {
   "cell_type": "markdown",
   "id": "c0ff6a19-1bd3-4972-b946-a9df55551dcc",
   "metadata": {},
   "source": [
    "1. [8 pts] Drop the 3 columns that contribute the least to the dataset. These would be the columns with the highest number of non-zero 'none' values. Break ties by going left to right in columns. (Your code should be generalizable to drop n columns, but for the rest of the analysis, you can call your code for n=3.)"
   ]
  },
  {
   "cell_type": "code",
   "execution_count": null,
   "id": "5c5f9667-66fa-4cdf-a222-1abcc7fb96e3",
   "metadata": {},
   "outputs": [],
   "source": [
    "n = 3\n",
    "for col in gc.columns:\n",
    "    gc[col] = gc[col].apply(lambda x: x if str(x).lower() != 'none' else np.nan)\n",
    "dropping = []\n",
    "for i, col in enumerate(gc.columns):\n",
    "    dropping.append([col, i, gc[col].count()])\n",
    "dropping.sort(key = lambda x:(x[-1], x[1]))\n",
    "gc = gc.drop([x[0] for x in dropping[:n]], axis=1)\n",
    "gc.shape"
   ]
  },
  {
   "cell_type": "markdown",
   "id": "8eaa593d-478d-4c80-b84a-68e8d3c42c86",
   "metadata": {},
   "source": [
    "2. [4 pts] Certain values in some of the columns contain unnecessary apostrophes (‘). Remove the apostrophes.\n"
   ]
  },
  {
   "cell_type": "code",
   "execution_count": null,
   "id": "bc135878-8102-47e2-a013-624f027a6f87",
   "metadata": {},
   "outputs": [],
   "source": [
    "gc.replace('\\'','', regex=True, inplace=True) \n",
    "gc.head()"
   ]
  },
  {
   "cell_type": "markdown",
   "id": "5c4037a7-6901-463f-be31-c61c00a58576",
   "metadata": {},
   "source": [
    "3. [5 pts] The checking_status column has values in 4 categories: 'no checking', '<0', '0<=X<200', and '>=200'. Change these to 'No Checking', 'Low', 'Medium', and 'High' respectively."
   ]
  },
  {
   "cell_type": "code",
   "execution_count": null,
   "id": "e3066aac-6974-4c58-92eb-81540ad1989a",
   "metadata": {},
   "outputs": [],
   "source": [
    "gc['checking_status'] = gc['checking_status'].str.replace('no checking', 'No Checking')\n",
    "gc['checking_status'] = gc['checking_status'].str.replace('<0', 'Low')\n",
    "gc['checking_status'] = gc['checking_status'].str.replace('0<=X<200', 'Medium')\n",
    "gc['checking_status'] = gc['checking_status'].str.replace('>=200', 'High')\n",
    "gc.head()"
   ]
  },
  {
   "cell_type": "markdown",
   "id": "0be27689-4b1b-472e-accd-5e690efd451e",
   "metadata": {},
   "source": [
    "4. [5 pts] The savings_status column has values in 4 categories: 'no known savings', '<100', '100<=X<500', '500<=X<1000', and '>=1000'. Change these to 'No Savings', 'Low', 'Medium', 'High', and 'High' respectively. (Yes, the last two are both 'High')."
   ]
  },
  {
   "cell_type": "code",
   "execution_count": null,
   "id": "92ff6d57-135d-4494-afb5-586649125471",
   "metadata": {},
   "outputs": [],
   "source": [
    "gc['savings_status'] = gc['savings_status'].str.replace('500<=X<1000', 'High')\n",
    "gc['savings_status'] = gc['savings_status'].str.replace('no known savings', 'No Savings')\n",
    "gc['savings_status'] = gc['savings_status'].str.replace('<100', 'Low')\n",
    "gc['savings_status'] = gc['savings_status'].str.replace('100<=X<500', 'Medium')\n",
    "gc['savings_status'] = gc['savings_status'].str.replace('>=1000', 'High')\n",
    "gc.head()"
   ]
  },
  {
   "cell_type": "code",
   "execution_count": null,
   "id": "3fd7848c-14db-4d7e-b550-be6c66625782",
   "metadata": {},
   "outputs": [],
   "source": [
    "gc['savings_status'].value_counts()"
   ]
  },
  {
   "cell_type": "markdown",
   "id": "c9c5cf0a-0646-4372-99a2-127f85de9985",
   "metadata": {},
   "source": [
    "5. [4 pts] Change class column values from 'good' to '1' and 'bad' to '0'"
   ]
  },
  {
   "cell_type": "code",
   "execution_count": null,
   "id": "b64e79a9-e754-4418-91d2-b2bd6c575e7e",
   "metadata": {},
   "outputs": [],
   "source": [
    "gc['class'] = gc['class'].replace('good', 1)\n",
    "gc['class'] = gc['class'].replace('bad', 0)\n",
    "gc.head()"
   ]
  },
  {
   "cell_type": "markdown",
   "id": "44f8b679-46ab-416c-86bb-22496e1af073",
   "metadata": {},
   "source": [
    "6. [5 pts] Change the employment column value 'unemployed' to 'Unemployed', and for the others, change to 'Amateur', 'Professional', 'Experienced' and 'Expert', depending on year range."
   ]
  },
  {
   "cell_type": "code",
   "execution_count": null,
   "id": "46c75a4f-d28d-4935-bfd9-06886a2961f9",
   "metadata": {},
   "outputs": [],
   "source": [
    "gc['employment'] = gc['employment'].str.replace('unemployed', 'Unemployed')\n",
    "gc['employment'] = gc['employment'].str.replace('<1', 'Amateur')\n",
    "gc['employment'] = gc['employment'].str.replace('1<=X<4',  'Professional')\n",
    "gc['employment'] = gc['employment'].str.replace('4<=X<7', 'Experienced')\n",
    "gc['employment'] = gc['employment'].str.replace('>=7', 'Expert')\n",
    "gc.head()"
   ]
  },
  {
   "cell_type": "markdown",
   "id": "f98fc4ce-7f28-40db-9357-48c4efe50e60",
   "metadata": {},
   "source": [
    "### Analysis (17 pts) ###"
   ]
  },
  {
   "cell_type": "markdown",
   "id": "a616d813-d1d0-46ad-9342-8a226ccd0c65",
   "metadata": {},
   "source": [
    "1. [5 pts] Often we need to find correlations between categorical attributes, i.e. attributes that have values that fall in one of several categories, such as \"yes\"/\"no\" for attr1, or \"low\",\"medium\",\"high\" for attr2.\n",
    "One such correlation is to find counts in combinations of categorial values across attributes, as in how many instances are \"yes\" for attr1 and \"low\" for attr2. A good way to find such counts is to use the Pandas crosstab (Links to an external site.) function. Do this for the following two counts.\n",
    "\n",
    "a. [3 pts] Get the count of each category of foreign workers (yes and no) for each class of credit (good and bad).\n",
    "\n",
    "b. [2 pts] Similarly, get the count of each category of employment for each category of saving_status."
   ]
  },
  {
   "cell_type": "code",
   "execution_count": null,
   "id": "45677131-1f6c-4b51-bca3-dba0268459ca",
   "metadata": {},
   "outputs": [],
   "source": [
    "pd.crosstab(gc['foreign_worker'], gc['class'])"
   ]
  },
  {
   "cell_type": "code",
   "execution_count": null,
   "id": "9a433371-c030-4b8a-b818-5fb3e37c9c99",
   "metadata": {},
   "outputs": [],
   "source": [
    "pd.crosstab(gc['employment'], gc['savings_status'])"
   ]
  },
  {
   "cell_type": "markdown",
   "id": "5a19ce93-744b-42f5-8ff9-57e7541677e0",
   "metadata": {},
   "source": [
    "2. [4 pts] Find the average credit_amount of single males that have 4<=X<7 years of employment. You can leave the raw result as is, no need for rounding."
   ]
  },
  {
   "cell_type": "code",
   "execution_count": null,
   "id": "dcd181e0-2fd4-4b41-9bc7-2d77052610c5",
   "metadata": {},
   "outputs": [],
   "source": [
    "gc[(gc['employment'] == 'Experienced') & (gc['personal_status'] == 'male single')]['credit_amount'].mean()"
   ]
  },
  {
   "cell_type": "markdown",
   "id": "553c21b5-d72a-4b8a-836a-0f739663ac2f",
   "metadata": {},
   "source": [
    "3. [4 pts] Find the average credit duration for each of the job types. You can leave the raw result as is, no need for rounding."
   ]
  },
  {
   "cell_type": "code",
   "execution_count": null,
   "id": "5d5a0c8d-c2be-425a-8a01-8266d779cd9a",
   "metadata": {},
   "outputs": [],
   "source": [
    "gc.groupby('job')['duration'].mean()"
   ]
  },
  {
   "cell_type": "markdown",
   "id": "b8618279-9c68-400c-a308-fd33be0eb09b",
   "metadata": {},
   "source": [
    "4. [4 pts] For the purpose 'education', what is the most common checking_status and savings_status? "
   ]
  },
  {
   "cell_type": "code",
   "execution_count": null,
   "id": "70386b68-4f82-4deb-a6d1-db20520e82c3",
   "metadata": {},
   "outputs": [],
   "source": [
    "com_check = gc[(gc['purpose'] == 'education')][('checking_status')].value_counts().index[0]\n",
    "com_sav = gc[(gc['purpose'] == 'education')][('savings_status')].value_counts().index[0]\n",
    "print(com_check)\n",
    "print(com_sav)"
   ]
  },
  {
   "cell_type": "markdown",
   "id": "eb2f9c61-5e1b-449a-8cf4-dab4da5554c3",
   "metadata": {},
   "source": [
    "### Visualization (24 pts) ###"
   ]
  },
  {
   "cell_type": "code",
   "execution_count": null,
   "id": "2c92dce9-b93a-45ed-ba6e-91b3d2feeec0",
   "metadata": {},
   "outputs": [],
   "source": [
    "import matplotlib.pyplot as plt"
   ]
  },
  {
   "cell_type": "markdown",
   "id": "d03821d7-0d99-4bb7-a6c1-b95230d4a93b",
   "metadata": {},
   "source": [
    "1. [9 pts] Plot subplots of two histograms: one with savings_status on the x-axis and personal_status as different colors, and another with checking_status on the x-axis and personal_status as different colors."
   ]
  },
  {
   "cell_type": "code",
   "execution_count": null,
   "id": "9a158a3c-3437-42f0-b4c9-8474d2ecaabd",
   "metadata": {},
   "outputs": [],
   "source": [
    "plot = gc[['savings_status', 'personal_status', 'checking_status']]\n",
    "plt.figure(figsize=(12, 8))\n",
    "ax1 = plt.subplot(2,1,1)\n",
    "ax2 = plt.subplot(2,1,2)\n",
    "ax1.hist(plot[['savings_status', 'personal_status']])\n",
    "ax2.hist(plot[['checking_status', 'personal_status']])\n",
    "plt.show()"
   ]
  },
  {
   "cell_type": "markdown",
   "id": "4da160af-e1ec-4764-a6e2-e9d8beda71fd",
   "metadata": {},
   "source": [
    "2. [9 pts] For people having credit_amount more than 4000, plot a bar graph which maps property_magnitude (x-axis) to the average customer age for that magnitude (y-axis)."
   ]
  },
  {
   "cell_type": "code",
   "execution_count": null,
   "id": "55b0d679-6c85-4a11-8127-6c9aa1c89001",
   "metadata": {},
   "outputs": [],
   "source": [
    "cred_amount = gc[gc['credit_amount'] > 4000]\n",
    "age_avg = cred_amount.groupby('property_magnitude')['age'].mean()\n",
    "plt.bar(cred_amount['property_magnitude'].unique(), age_avg)"
   ]
  },
  {
   "cell_type": "markdown",
   "id": "11581e37-87ca-4d61-9131-b9afef065810",
   "metadata": {
    "tags": []
   },
   "source": [
    "3. [6 pts] For people with a \"High\" savings_status and age above 40, use subplots to plot the following pie charts:\n",
    "1)Personal status \n",
    "2)Credit history\n",
    "3)Job"
   ]
  },
  {
   "cell_type": "code",
   "execution_count": null,
   "id": "ad2d86d3-aa88-4d3e-b699-9ae3d1670fd0",
   "metadata": {},
   "outputs": [],
   "source": [
    "plt.figure(figsize=(15,5))\n",
    "\n",
    "ax = plt.subplot(1,3,1)\n",
    "per_stat = gc[(gc['savings_status'] == 'High') & (gc['age'] > 40)]['personal_status']\n",
    "ax.pie(per_stat.value_counts(), labels=per_stat.value_counts().index)\n",
    "ax.set_title('Personal status')\n",
    "\n",
    "ax = plt.subplot(1,3,2)\n",
    "cred_his = gc[(gc['savings_status'] == 'High') & (gc['age'] > 40)]['credit_history']\n",
    "ax.pie(cred_his.value_counts(), labels=cred_his.value_counts().index)\n",
    "ax.set_title('Credit history')\n",
    "\n",
    "ax = plt.subplot(1,3,3)\n",
    "job = gc[(gc['savings_status'] == 'High') & (gc['age'] > 40)]['job']\n",
    "ax.pie(job.value_counts(), labels=job.value_counts().index)\n",
    "ax.set_title('job')"
   ]
  }
 ],
 "metadata": {
  "kernelspec": {
   "display_name": "Python 3",
   "language": "python",
   "name": "python3"
  },
  "language_info": {
   "codemirror_mode": {
    "name": "ipython",
    "version": 3
   },
   "file_extension": ".py",
   "mimetype": "text/x-python",
   "name": "python",
   "nbconvert_exporter": "python",
   "pygments_lexer": "ipython3",
   "version": "3.8.8"
  }
 },
 "nbformat": 4,
 "nbformat_minor": 5
}
