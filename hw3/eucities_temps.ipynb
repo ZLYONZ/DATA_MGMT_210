{
 "cells": [
  {
   "cell_type": "markdown",
   "id": "b934f536-6094-473f-83dc-eb70a1334bd3",
   "metadata": {},
   "source": [
    "### Preprocessing/Analysis (28 pts) ###"
   ]
  },
  {
   "cell_type": "code",
   "execution_count": 3,
   "id": "b8651343-4474-4502-a081-83ca02b9f8da",
   "metadata": {},
   "outputs": [],
   "source": [
    "import pandas as pd\n",
    "import numpy as np\n",
    "ect = pd.read_csv('EuCitiesTemperatures.csv')"
   ]
  },
  {
   "cell_type": "code",
   "execution_count": 7,
   "id": "efe3941f-258e-48c0-83b7-96dd84f7bc33",
   "metadata": {},
   "outputs": [
    {
     "data": {
      "text/plain": [
       "RangeIndex(start=0, stop=213, step=1)"
      ]
     },
     "execution_count": 7,
     "metadata": {},
     "output_type": "execute_result"
    }
   ],
   "source": [
    "for idx in ect.index:\n",
    "    if(not isinstance(ect.loc[idx, 'country'], str)):\n",
    "        if (df[df.country == 'HP']['Price'].min() <= df.loc[idx, 'Price'] <= df[df.country == 'HP']['Price'].max()):\n",
    "            df.loc[idx, 'Category'] = 'HP' \n",
    "        \n",
    "        elif (df[df.country == 'LX']['Price'].min() <= df.loc[idx, 'Price'] <= df[df.country == 'LX']['Price'].max()):\n",
    "            df.loc[idx, 'Category'] = 'LX'  \n",
    "            \n",
    "        elif (df[df.country == 'MR']['Price'].min() <= df.loc[idx, 'Price'] <= df[df.country == 'MR']['Price'].max()):\n",
    "            df.loc[idx, 'Category'] = 'MR'\n",
    "            \n",
    "        elif (df[df.country == 'EC']['Price'].min() <= df.loc[idx, 'Price'] <= df[df.country == 'EC']['Price'].max()):\n",
    "            df.loc[idx, 'Category'] = 'EC'\n",
    "            \n",
    "df"
   ]
  },
  {
   "cell_type": "code",
   "execution_count": 10,
   "id": "d6977f5b-bcae-4f63-99c5-d086c3718280",
   "metadata": {},
   "outputs": [
    {
     "data": {
      "text/plain": [
       "42.5"
      ]
     },
     "execution_count": 10,
     "metadata": {},
     "output_type": "execute_result"
    }
   ],
   "source": [
    "ect.loc[1, 'latitude']"
   ]
  },
  {
   "cell_type": "markdown",
   "id": "4601cc37-1e62-4ec8-80a3-cecd46ab9c1d",
   "metadata": {},
   "source": [
    "1. [9 pts] Fill in the missing latitude and longitude values by calculating the average for that country. Round the average to 2 decimal places."
   ]
  },
  {
   "cell_type": "code",
   "execution_count": 2,
   "id": "849cb627-e122-4cbf-97c3-a1837c59145f",
   "metadata": {},
   "outputs": [
    {
     "name": "stderr",
     "output_type": "stream",
     "text": [
      "/Users/LYON/opt/anaconda3/lib/python3.8/site-packages/pandas/core/series.py:4463: SettingWithCopyWarning: \n",
      "A value is trying to be set on a copy of a slice from a DataFrame\n",
      "\n",
      "See the caveats in the documentation: https://pandas.pydata.org/pandas-docs/stable/user_guide/indexing.html#returning-a-view-versus-a-copy\n",
      "  return super().fillna(\n"
     ]
    },
    {
     "data": {
      "text/html": [
       "<div>\n",
       "<style scoped>\n",
       "    .dataframe tbody tr th:only-of-type {\n",
       "        vertical-align: middle;\n",
       "    }\n",
       "\n",
       "    .dataframe tbody tr th {\n",
       "        vertical-align: top;\n",
       "    }\n",
       "\n",
       "    .dataframe thead th {\n",
       "        text-align: right;\n",
       "    }\n",
       "</style>\n",
       "<table border=\"1\" class=\"dataframe\">\n",
       "  <thead>\n",
       "    <tr style=\"text-align: right;\">\n",
       "      <th></th>\n",
       "      <th>city</th>\n",
       "      <th>country</th>\n",
       "      <th>population</th>\n",
       "      <th>EU</th>\n",
       "      <th>coastline</th>\n",
       "      <th>latitude</th>\n",
       "      <th>longitude</th>\n",
       "      <th>temperature</th>\n",
       "    </tr>\n",
       "  </thead>\n",
       "  <tbody>\n",
       "    <tr>\n",
       "      <th>0</th>\n",
       "      <td>Elbasan</td>\n",
       "      <td>Albania</td>\n",
       "      <td>2.90</td>\n",
       "      <td>no</td>\n",
       "      <td>yes</td>\n",
       "      <td>41.12</td>\n",
       "      <td>20.08</td>\n",
       "      <td>15.18</td>\n",
       "    </tr>\n",
       "    <tr>\n",
       "      <th>1</th>\n",
       "      <td>Andorra</td>\n",
       "      <td>Andorra</td>\n",
       "      <td>0.07</td>\n",
       "      <td>no</td>\n",
       "      <td>no</td>\n",
       "      <td>42.50</td>\n",
       "      <td>1.52</td>\n",
       "      <td>NaN</td>\n",
       "    </tr>\n",
       "    <tr>\n",
       "      <th>2</th>\n",
       "      <td>Innsbruck</td>\n",
       "      <td>Austria</td>\n",
       "      <td>8.57</td>\n",
       "      <td>yes</td>\n",
       "      <td>no</td>\n",
       "      <td>47.85</td>\n",
       "      <td>11.41</td>\n",
       "      <td>4.54</td>\n",
       "    </tr>\n",
       "    <tr>\n",
       "      <th>3</th>\n",
       "      <td>Graz</td>\n",
       "      <td>Austria</td>\n",
       "      <td>8.57</td>\n",
       "      <td>yes</td>\n",
       "      <td>no</td>\n",
       "      <td>47.08</td>\n",
       "      <td>14.02</td>\n",
       "      <td>6.91</td>\n",
       "    </tr>\n",
       "    <tr>\n",
       "      <th>4</th>\n",
       "      <td>Linz</td>\n",
       "      <td>Austria</td>\n",
       "      <td>8.57</td>\n",
       "      <td>yes</td>\n",
       "      <td>no</td>\n",
       "      <td>48.32</td>\n",
       "      <td>14.29</td>\n",
       "      <td>6.79</td>\n",
       "    </tr>\n",
       "    <tr>\n",
       "      <th>...</th>\n",
       "      <td>...</td>\n",
       "      <td>...</td>\n",
       "      <td>...</td>\n",
       "      <td>...</td>\n",
       "      <td>...</td>\n",
       "      <td>...</td>\n",
       "      <td>...</td>\n",
       "      <td>...</td>\n",
       "    </tr>\n",
       "    <tr>\n",
       "      <th>208</th>\n",
       "      <td>Edinburgh</td>\n",
       "      <td>United Kingdom</td>\n",
       "      <td>65.11</td>\n",
       "      <td>yes</td>\n",
       "      <td>yes</td>\n",
       "      <td>55.95</td>\n",
       "      <td>-2.94</td>\n",
       "      <td>NaN</td>\n",
       "    </tr>\n",
       "    <tr>\n",
       "      <th>209</th>\n",
       "      <td>Exeter</td>\n",
       "      <td>United Kingdom</td>\n",
       "      <td>65.11</td>\n",
       "      <td>yes</td>\n",
       "      <td>yes</td>\n",
       "      <td>50.70</td>\n",
       "      <td>-3.53</td>\n",
       "      <td>10.14</td>\n",
       "    </tr>\n",
       "    <tr>\n",
       "      <th>210</th>\n",
       "      <td>Inverness</td>\n",
       "      <td>United Kingdom</td>\n",
       "      <td>65.11</td>\n",
       "      <td>yes</td>\n",
       "      <td>yes</td>\n",
       "      <td>53.55</td>\n",
       "      <td>-4.23</td>\n",
       "      <td>8.00</td>\n",
       "    </tr>\n",
       "    <tr>\n",
       "      <th>211</th>\n",
       "      <td>Glasgow</td>\n",
       "      <td>United Kingdom</td>\n",
       "      <td>65.11</td>\n",
       "      <td>yes</td>\n",
       "      <td>yes</td>\n",
       "      <td>55.87</td>\n",
       "      <td>-4.25</td>\n",
       "      <td>8.60</td>\n",
       "    </tr>\n",
       "    <tr>\n",
       "      <th>212</th>\n",
       "      <td>Swansea</td>\n",
       "      <td>United Kingdom</td>\n",
       "      <td>65.11</td>\n",
       "      <td>yes</td>\n",
       "      <td>yes</td>\n",
       "      <td>51.63</td>\n",
       "      <td>-3.95</td>\n",
       "      <td>9.73</td>\n",
       "    </tr>\n",
       "  </tbody>\n",
       "</table>\n",
       "<p>213 rows × 8 columns</p>\n",
       "</div>"
      ],
      "text/plain": [
       "          city         country  population   EU coastline  latitude  \\\n",
       "0      Elbasan         Albania        2.90   no       yes     41.12   \n",
       "1      Andorra         Andorra        0.07   no        no     42.50   \n",
       "2    Innsbruck         Austria        8.57  yes        no     47.85   \n",
       "3         Graz         Austria        8.57  yes        no     47.08   \n",
       "4         Linz         Austria        8.57  yes        no     48.32   \n",
       "..         ...             ...         ...  ...       ...       ...   \n",
       "208  Edinburgh  United Kingdom       65.11  yes       yes     55.95   \n",
       "209     Exeter  United Kingdom       65.11  yes       yes     50.70   \n",
       "210  Inverness  United Kingdom       65.11  yes       yes     53.55   \n",
       "211    Glasgow  United Kingdom       65.11  yes       yes     55.87   \n",
       "212    Swansea  United Kingdom       65.11  yes       yes     51.63   \n",
       "\n",
       "     longitude  temperature  \n",
       "0        20.08        15.18  \n",
       "1         1.52          NaN  \n",
       "2        11.41         4.54  \n",
       "3        14.02         6.91  \n",
       "4        14.29         6.79  \n",
       "..         ...          ...  \n",
       "208      -2.94          NaN  \n",
       "209      -3.53        10.14  \n",
       "210      -4.23         8.00  \n",
       "211      -4.25         8.60  \n",
       "212      -3.95         9.73  \n",
       "\n",
       "[213 rows x 8 columns]"
      ]
     },
     "execution_count": 2,
     "metadata": {},
     "output_type": "execute_result"
    }
   ],
   "source": [
    "countries = ect['country'].unique()\n",
    "latlon_list = []\n",
    "for country in countries:\n",
    "    lat_avg = round(ect[ect['country']==country]['latitude'].mean() ,2)\n",
    "    lon_avg = round(ect[ect['country']==country]['longitude'].mean() ,2)\n",
    "    lat_lon = ect[ect['country']==country]\n",
    "    lat_lon['latitude'].fillna(lat_avg, inplace=True)\n",
    "    lat_lon['longitude'].fillna(lon_avg, inplace=True)\n",
    "    latlon_list.append(lat_lon)\n",
    "ect = pd.concat(latlon_list)\n",
    "ect"
   ]
  },
  {
   "cell_type": "markdown",
   "id": "80c35fc4-628c-4a9c-bc78-7ed84967525d",
   "metadata": {},
   "source": [
    "2. [9 pts] Find out the subset of cities that lie between latitudes 40 to 60 (both inclusive) and longitudes 15 to 30 (both inclusive). Find out which countries have the maximum number of cities in this geographical band. (More than one country could have the maximum number of values.)"
   ]
  },
  {
   "cell_type": "code",
   "execution_count": null,
   "id": "2127f750-f66d-4ecf-9037-22d6b9705e1b",
   "metadata": {},
   "outputs": [],
   "source": [
    "sub_citi = ect.loc[(40 <= ect['latitude']) & (ect['latitude'] <= 60) & \n",
    "                   (15 <= ect['longitude']) & (ect['longitude'] <= 30)]\n",
    "sub_citi"
   ]
  },
  {
   "cell_type": "code",
   "execution_count": null,
   "id": "178f7c8c-5534-4767-9d95-63c2cf965b65",
   "metadata": {},
   "outputs": [],
   "source": [
    "max_citi = sub_citi.groupby('country')['city'].count()\n",
    "max_citi[max_citi == max(max_citi)]"
   ]
  },
  {
   "cell_type": "markdown",
   "id": "8bd20589-1d43-4edb-80bf-d6ce6d283589",
   "metadata": {},
   "source": [
    "3. [10 pts] Fill in the missing temperature values by the average temperature value of the similar region type. A region type would be a combinaton of whether it is in EU (yes/no) and whether it has a coastline (yes/no).\n",
    "For example, if we have a missing temperature value for Bergen, Norway, which is not in the EU but lies on the coast, we will fill it with the average temperature of cities with EU='no' and coastline='yes')"
   ]
  },
  {
   "cell_type": "code",
   "execution_count": null,
   "id": "bc6551af-caf3-4ef3-8687-a7dcb9e0490a",
   "metadata": {},
   "outputs": [],
   "source": [
    "avg_temp = ect.groupby(['EU', 'coastline'])['temperature'].mean()\n",
    "\n",
    "content = []\n",
    "for index in avg_temp.index:\n",
    "    EU_coa = ect[(ect['EU'] == index[0]) & (ect['coastline'] == index[1])]\n",
    "    EU_coa['temperature'].fillna(round(avg_temp[index], 2), inplace=True)\n",
    "    content.append(EU_coa)\n",
    "ect = pd.concat(content)\n",
    "ect = ect.sort_index()\n",
    "ect"
   ]
  },
  {
   "cell_type": "markdown",
   "id": "d0e81a8c-6f41-494f-aed6-4ebb6ff229b3",
   "metadata": {},
   "source": [
    "### Visualization (27 pts) ###"
   ]
  },
  {
   "cell_type": "code",
   "execution_count": null,
   "id": "090f88ae-431b-490a-be5b-c096bd487419",
   "metadata": {},
   "outputs": [],
   "source": [
    "import matplotlib.pyplot as plt"
   ]
  },
  {
   "cell_type": "markdown",
   "id": "fbea1e07-703e-46be-a7a8-72a4964896ea",
   "metadata": {},
   "source": [
    "1. [6 pts] Plot a bar chart for the number of cities belonging to each of the regions described in Preprocessing/Analysis #3 above."
   ]
  },
  {
   "cell_type": "code",
   "execution_count": null,
   "id": "bb079498-5176-475c-be7f-d0ca9acbe06b",
   "metadata": {},
   "outputs": [],
   "source": [
    "ax = ect.groupby(['EU', 'coastline'])['temperature'].count()\n",
    "plt.bar([str(x) for x in ax.index], ax, color='blue')\n",
    "plt.xlabel('EU & Coastline', fontsize=14)\n",
    "plt.ylabel('Number of countries', fontsize=14)"
   ]
  },
  {
   "cell_type": "markdown",
   "id": "d97b19a2-7efe-4aec-99da-670238a95801",
   "metadata": {},
   "source": [
    "2. [7 pts] Plot a scatter plot of latitude (y-axis) v/s longitude (x-axis) values to get a map-like visual of the cities under consideration. All the cities in the same country should have the same color."
   ]
  },
  {
   "cell_type": "code",
   "execution_count": null,
   "id": "4a068e68-30c7-4dc5-831d-038da021eed8",
   "metadata": {},
   "outputs": [],
   "source": [
    "ect['color'] = 'green'\n",
    "len(ect['country'].unique())\n",
    "colors = {}\n",
    "for i, country in enumerate(ect['country'].unique()):\n",
    "    colors[country] = i\n",
    "ect ['color'] = ect['country'].apply(lambda x: colors[x])\n",
    "\n",
    "plt.scatter(x=ect['longitude'], y=ect['latitude'], c=ect['color'], s=8, alpha=0.5)\n",
    "plt.xlabel('Longitude', fontsize=14)\n",
    "plt.ylabel('Latitude', fontsize=14)"
   ]
  },
  {
   "cell_type": "markdown",
   "id": "547f023e-820f-4857-89c3-9910d96122a6",
   "metadata": {},
   "source": [
    "3. [6 pts] The population column contains values unique to each country. So two cities of the same country will show the same population value. Plot a histogram of the number of countries belonging to each population group: split the population values into 5 bins (groups)."
   ]
  },
  {
   "cell_type": "code",
   "execution_count": null,
   "id": "c145a671-cb0e-4101-9277-814265692014",
   "metadata": {},
   "outputs": [],
   "source": [
    "ax = ect.groupby('country')['population'].mean()\n",
    "ax.plot.hist(bins=5, color='red')\n",
    "plt.xlabel('Population')"
   ]
  },
  {
   "cell_type": "markdown",
   "id": "b875af45-eabc-43e6-88dc-e12f533cfb9f",
   "metadata": {},
   "source": [
    "4. [8 pts] Plot subplots (2, 2), with proper titles, one each for the region types described in Preprocessing/Analysis #3 above.\n",
    "\n",
    "Each subplot should be a scatter plot of Latitude (y-axis) vs. City (x-axis), where the color of the plot points should be based on the temperature values: ‘red’ for temperatures above 10, ‘blue’ for temperatures below 6 and ‘orange for temperatures between 6 and 10 (both inclusive). For each subplot, set xticks to an array of numbers from 0 to n-1 (both inclusive), where n is the total number of cities in each region type. This represents each city as a number between 0 and n-1."
   ]
  },
  {
   "cell_type": "code",
   "execution_count": null,
   "id": "42b5cec0-4e4b-4bd1-9e7f-dcb8fe7ca9f6",
   "metadata": {},
   "outputs": [],
   "source": [
    "plt.figure(figsize=(16, 10))\n",
    "def set_color(temperature):\n",
    "    if temperature > 10:\n",
    "        return 'red'\n",
    "    if temperature < 6:\n",
    "        return 'blue'\n",
    "    return 'orange'\n",
    "ect['color'] = ect['temperature'].apply(lambda x: set_color(x))\n",
    "\n",
    "for i in range(4):\n",
    "    ect_tmp = ect[(ect['EU']==avg_temp.index[i][0])&(ect['coastline']==avg_temp.index[i][1])]\n",
    "    ax = plt.subplot(2,2, i+1)\n",
    "    ax.scatter(ect_tmp['city'], ect_tmp['latitude'],color=ect_tmp['color'])\n",
    "    ax.set_title('EU={}, Coastline={}'.format(*avg_temp.index[i]))\n",
    "    ax.set_xticks(range(0,ect_tmp.shape[0]))"
   ]
  }
 ],
 "metadata": {
  "kernelspec": {
   "display_name": "Python 3",
   "language": "python",
   "name": "python3"
  },
  "language_info": {
   "codemirror_mode": {
    "name": "ipython",
    "version": 3
   },
   "file_extension": ".py",
   "mimetype": "text/x-python",
   "name": "python",
   "nbconvert_exporter": "python",
   "pygments_lexer": "ipython3",
   "version": "3.8.8"
  }
 },
 "nbformat": 4,
 "nbformat_minor": 5
}
