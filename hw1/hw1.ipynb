{
 "cells": [
  {
   "cell_type": "markdown",
   "id": "91c085ad-a470-47b5-ac93-8f31522198b1",
   "metadata": {},
   "source": [
    "### Task1.1 ###"
   ]
  },
  {
   "cell_type": "code",
   "execution_count": 1,
   "id": "82c24f37-61c6-41e2-9e26-b4f5e5a9c682",
   "metadata": {},
   "outputs": [],
   "source": [
    "def read_ratings_data(f):\n",
    "    \n",
    "    ratings_dict = {}\n",
    "    contents = []\n",
    "    \n",
    "    with open (f, 'r') as f:\n",
    "        contents = f.readlines()\n",
    "    f.close()\n",
    "    \n",
    "    for i in range(len(contents)):\n",
    "        temp = contents[i][:-1].split('|')\n",
    "        contents[i] = [temp[0], float(temp[1])]\n",
    "\n",
    "    for i in contents:\n",
    "        if i[0] not in ratings_dict:\n",
    "            ratings_dict[i[0]] = []\n",
    "        ratings_dict[i[0]].append(i[1])\n",
    "    \n",
    "    return ratings_dict"
   ]
  },
  {
   "cell_type": "code",
   "execution_count": 2,
   "id": "0d052618-a2d4-40f1-a68b-feabb030c6f1",
   "metadata": {},
   "outputs": [
    {
     "data": {
      "text/plain": [
       "{'Toy Story (1995)': [4.0, 4.0, 4.5, 2.5, 4.5, 3.5],\n",
       " 'Jumanji (1995)': [4.0, 4.0, 3.0, 3.0, 3.0, 3.5],\n",
       " 'Tom and Huck (1995)': [3.0, 1.0, 5.0, 3.0, 2.0, 3.0],\n",
       " 'Grumpier Old Men (1995)': [4.0, 5.0, 3.0, 3.0, 4.0, 5.0],\n",
       " 'Waiting to Exhale (1995)': [3.0, 3.0, 3.0, 3.0, 1.0, 2.0],\n",
       " 'Father of the Bride Part II (1995)': [5.0, 3.0, 5.0, 3.0, 4.0, 4.0],\n",
       " 'Heat (1995)': [4.0, 4.0, 5.0, 4.0, 4.0, 4.5],\n",
       " 'Sudden Death (1995)': [4.0, 3.0, 3.0, 2.0, 3.0, 5.0],\n",
       " 'GoldenEye (1995)': [3.0, 2.0, 3.0, 2.0, 5.0, 3.0]}"
      ]
     },
     "execution_count": 2,
     "metadata": {},
     "output_type": "execute_result"
    }
   ],
   "source": [
    "read_ratings_data('/Users/LYON/Desktop/DATA_MGMT_210/hw1/movieRatingSample.txt')"
   ]
  },
  {
   "cell_type": "markdown",
   "id": "d48c36dd-6573-4d47-affa-a05af162045c",
   "metadata": {},
   "source": [
    "### Task1.2 ###"
   ]
  },
  {
   "cell_type": "code",
   "execution_count": 3,
   "id": "eb0ab360-93c7-40e2-bd41-c5a58c4eb617",
   "metadata": {},
   "outputs": [],
   "source": [
    "def read_movie_genre(f):\n",
    "    \n",
    "    genre_dict = {}\n",
    "    contents = []\n",
    "    \n",
    "    with open (f, 'r') as f:\n",
    "        contents = f.readlines()\n",
    "    f.close()\n",
    "    \n",
    "    for i in range(len(contents)):\n",
    "        contents[i] = contents[i][:-1].split('|')\n",
    "        \n",
    "    for i in contents:\n",
    "        genre_dict[i[2]] = i[0]\n",
    "        \n",
    "    return genre_dict"
   ]
  },
  {
   "cell_type": "code",
   "execution_count": 4,
   "id": "a13744c6-c637-4891-a37d-442ef2eb5bce",
   "metadata": {},
   "outputs": [
    {
     "data": {
      "text/plain": [
       "{'Toy Story (1995)': 'Adventure',\n",
       " 'Jumanji (1995)': 'Adventure',\n",
       " 'Tom and Huck (1995)': 'Adventure',\n",
       " 'Grumpier Old Men (1995)': 'Comedy',\n",
       " 'Waiting to Exhale (1995)': 'Comedy',\n",
       " 'Father of the Bride Part II (1995)': 'Comedy',\n",
       " 'Heat (1995)': 'Action',\n",
       " 'Sudden Death (1995)': 'Action',\n",
       " 'GoldenEye (1995)': 'Action'}"
      ]
     },
     "execution_count": 4,
     "metadata": {},
     "output_type": "execute_result"
    }
   ],
   "source": [
    "read_movie_genre('genreMovieSample.txt')"
   ]
  },
  {
   "cell_type": "markdown",
   "id": "049f23f8-568f-4b9d-91ed-6fc632ec15ef",
   "metadata": {},
   "source": [
    "### Task2.1 ###"
   ]
  },
  {
   "cell_type": "code",
   "execution_count": 5,
   "id": "d5da66b0-3117-4a0c-9222-13f91dcfc5ed",
   "metadata": {},
   "outputs": [],
   "source": [
    "def create_genre_dict(genre_dict):\n",
    "    \n",
    "    new_genre_dict = {}\n",
    "    \n",
    "    for i in genre_dict.keys():\n",
    "        key = genre_dict[i]\n",
    "        \n",
    "        if not key in new_genre_dict.keys():\n",
    "            new_genre_dict[key] = []\n",
    "            \n",
    "        new_genre_dict[key].append(i)\n",
    "        \n",
    "    return new_genre_dict"
   ]
  },
  {
   "cell_type": "code",
   "execution_count": 6,
   "id": "fe35d94c-a9cc-4029-8d3f-6866a621ec16",
   "metadata": {},
   "outputs": [
    {
     "data": {
      "text/plain": [
       "{'Adventure': ['Toy Story (1995)', 'Jumanji (1995)', 'Tom and Huck (1995)'],\n",
       " 'Comedy': ['Grumpier Old Men (1995)',\n",
       "  'Waiting to Exhale (1995)',\n",
       "  'Father of the Bride Part II (1995)'],\n",
       " 'Action': ['Heat (1995)', 'Sudden Death (1995)', 'GoldenEye (1995)']}"
      ]
     },
     "execution_count": 6,
     "metadata": {},
     "output_type": "execute_result"
    }
   ],
   "source": [
    "create_genre_dict(read_movie_genre('/Users/LYON/Desktop/DATA_MGMT_210/hw1/genreMovieSample.txt'))"
   ]
  },
  {
   "cell_type": "markdown",
   "id": "bd7644e1-537f-48a7-b8ec-eca93a0ac7a1",
   "metadata": {},
   "source": [
    "### Task2.2 ###"
   ]
  },
  {
   "cell_type": "code",
   "execution_count": 7,
   "id": "7ccd1914-e975-4199-b232-03e8710e67bd",
   "metadata": {},
   "outputs": [],
   "source": [
    "def calculate_average_rating(ratings_dict):\n",
    "    \n",
    "    rating_avg_dict = {}\n",
    "    \n",
    "    for i in ratings_dict.keys():\n",
    "        avg = sum(ratings_dict[i]) / len(ratings_dict[i])\n",
    "        rating_avg_dict[i] = round(avg, 2)\n",
    "        \n",
    "    return rating_avg_dict"
   ]
  },
  {
   "cell_type": "code",
   "execution_count": 8,
   "id": "03aa275a-eb6b-4e04-9683-ffa183bf3fdc",
   "metadata": {},
   "outputs": [
    {
     "data": {
      "text/plain": [
       "{'Toy Story (1995)': 3.83,\n",
       " 'Jumanji (1995)': 3.42,\n",
       " 'Tom and Huck (1995)': 2.83,\n",
       " 'Grumpier Old Men (1995)': 4.0,\n",
       " 'Waiting to Exhale (1995)': 2.5,\n",
       " 'Father of the Bride Part II (1995)': 4.0,\n",
       " 'Heat (1995)': 4.25,\n",
       " 'Sudden Death (1995)': 3.33,\n",
       " 'GoldenEye (1995)': 3.0}"
      ]
     },
     "execution_count": 8,
     "metadata": {},
     "output_type": "execute_result"
    }
   ],
   "source": [
    "calculate_average_rating(read_ratings_data(\"/Users/LYON/Desktop/DATA_MGMT_210/hw1/movieRatingSample.txt\"))"
   ]
  },
  {
   "cell_type": "markdown",
   "id": "3d57e2e3-9782-47df-b9a7-abf688fd817c",
   "metadata": {},
   "source": [
    "### Task3.1 ###"
   ]
  },
  {
   "cell_type": "code",
   "execution_count": 9,
   "id": "a9c27a6c-60c9-41bb-ade8-7ab64362b672",
   "metadata": {},
   "outputs": [],
   "source": [
    "def get_popular_movies(rating_avg_dict, n=10):\n",
    "    \n",
    "    pop_movies_dict = {}\n",
    "    \n",
    "    pop_movies_dict = dict(sorted(rating_avg_dict.items(), key=lambda item: item[1], reverse=True))\n",
    "                        \n",
    "    len_of_dict = len(pop_movies_dict)\n",
    "    if len_of_dict <= n:\n",
    "        return pop_movies_dict\n",
    "    else:\n",
    "        return dict(list(pop_movies_dict.items())[0:n])"
   ]
  },
  {
   "cell_type": "code",
   "execution_count": 10,
   "id": "2f03a41b-981c-4d21-989c-6494d4c45104",
   "metadata": {},
   "outputs": [
    {
     "data": {
      "text/plain": [
       "{'Heat (1995)': 4.25,\n",
       " 'Grumpier Old Men (1995)': 4.0,\n",
       " 'Father of the Bride Part II (1995)': 4.0,\n",
       " 'Toy Story (1995)': 3.83,\n",
       " 'Jumanji (1995)': 3.42,\n",
       " 'Sudden Death (1995)': 3.33,\n",
       " 'GoldenEye (1995)': 3.0,\n",
       " 'Tom and Huck (1995)': 2.83,\n",
       " 'Waiting to Exhale (1995)': 2.5}"
      ]
     },
     "execution_count": 10,
     "metadata": {},
     "output_type": "execute_result"
    }
   ],
   "source": [
    "get_popular_movies(calculate_average_rating(read_ratings_data(\"/Users/LYON/Desktop/DATA_MGMT_210/hw1/movieRatingSample.txt\")))"
   ]
  },
  {
   "cell_type": "markdown",
   "id": "1f45abe0-5044-463f-9225-96f9d171202b",
   "metadata": {},
   "source": [
    "### Task3.2 ###"
   ]
  },
  {
   "cell_type": "code",
   "execution_count": 11,
   "id": "d6a10699-7287-4592-8d2b-a0ca96729458",
   "metadata": {},
   "outputs": [],
   "source": [
    "def filter_movies(rating_avg_dict, threshold_rating = 3):\n",
    "    \n",
    "    filter_movies_dict = {}\n",
    "    \n",
    "    for k, v in rating_avg_dict.items():\n",
    "        if v >= threshold_rating:\n",
    "            filter_movies_dict[k] = v\n",
    "            \n",
    "    return filter_movies_dict"
   ]
  },
  {
   "cell_type": "code",
   "execution_count": 12,
   "id": "376f3459-6db2-44b7-b6e6-167416fe4cbf",
   "metadata": {},
   "outputs": [
    {
     "data": {
      "text/plain": [
       "{'Toy Story (1995)': 3.83,\n",
       " 'Jumanji (1995)': 3.42,\n",
       " 'Grumpier Old Men (1995)': 4.0,\n",
       " 'Father of the Bride Part II (1995)': 4.0,\n",
       " 'Heat (1995)': 4.25,\n",
       " 'Sudden Death (1995)': 3.33,\n",
       " 'GoldenEye (1995)': 3.0}"
      ]
     },
     "execution_count": 12,
     "metadata": {},
     "output_type": "execute_result"
    }
   ],
   "source": [
    "filter_movies(calculate_average_rating(read_ratings_data(\"/Users/LYON/Desktop/DATA_MGMT_210/hw1/movieRatingSample.txt\")))"
   ]
  },
  {
   "cell_type": "markdown",
   "id": "307f0feb-af65-470c-9d38-c0aecbf46dba",
   "metadata": {},
   "source": [
    "### Task3.3 ###"
   ]
  },
  {
   "cell_type": "code",
   "execution_count": 13,
   "id": "d49d9d43-f5eb-4758-9fda-79524cfd20ff",
   "metadata": {},
   "outputs": [],
   "source": [
    "def get_popular_in_genre(genre, new_genre_dict, rating_avg_dict, n=5):\n",
    "\n",
    "    pop_genre_dict = {}\n",
    "    \n",
    "    for i in new_genre_dict[genre]:\n",
    "        pop_genre_dict[i] = rating_avg_dict[i]\n",
    "    return dict(sorted(pop_genre_dict.items(), key=lambda item: item[1], reverse=True))\n",
    "    \n",
    "    len_of_dict = len(pop_genre_dict)\n",
    "    if len_of_dict <= n:\n",
    "        return pop_genre_dict\n",
    "    else:\n",
    "        return dict(list(pop_genre_dict.items())[0:n])"
   ]
  },
  {
   "cell_type": "code",
   "execution_count": 14,
   "id": "bf057f4c-0dd7-4903-a2e1-78c449c54a03",
   "metadata": {},
   "outputs": [
    {
     "data": {
      "text/plain": [
       "{'Heat (1995)': 4.25, 'Sudden Death (1995)': 3.33, 'GoldenEye (1995)': 3.0}"
      ]
     },
     "execution_count": 14,
     "metadata": {},
     "output_type": "execute_result"
    }
   ],
   "source": [
    "get_popular_in_genre('Action', create_genre_dict(read_movie_genre(\"/Users/LYON/Desktop/DATA_MGMT_210/hw1/genreMovieSample.txt\")), calculate_average_rating(read_ratings_data(\"/Users/LYON/Desktop/DATA_MGMT_210/hw1/movieRatingSample.txt\")))"
   ]
  },
  {
   "cell_type": "markdown",
   "id": "29d1b5a7-1dc7-4a9a-9367-f017c6065922",
   "metadata": {},
   "source": [
    "### Task3.4 ###"
   ]
  },
  {
   "cell_type": "code",
   "execution_count": 15,
   "id": "b22d5bf0-1431-4adf-b400-c484e90396e8",
   "metadata": {},
   "outputs": [],
   "source": [
    "def get_genre_rating(genre, new_genre_dict, rating_avg_dict):\n",
    "    \n",
    "    pop_genre_dict = {}\n",
    "    genre_rating_dict = 0\n",
    "    \n",
    "    for i in new_genre_dict[genre]:\n",
    "        pop_genre_dict[i] = rating_avg_dict[i]\n",
    "        dict(sorted(pop_genre_dict.items(), key=lambda item: item[1], reverse=True))\n",
    "    \n",
    "    avg = sum(pop_genre_dict.values()) / len(pop_genre_dict.values())\n",
    "    genre_rating_dict = round(avg, 2)\n",
    "        \n",
    "    return genre_rating_dict"
   ]
  },
  {
   "cell_type": "code",
   "execution_count": 16,
   "id": "240e4895-375f-46f1-82dc-ba1202b98b48",
   "metadata": {},
   "outputs": [
    {
     "data": {
      "text/plain": [
       "3.5"
      ]
     },
     "execution_count": 16,
     "metadata": {},
     "output_type": "execute_result"
    }
   ],
   "source": [
    "get_genre_rating('Comedy', create_genre_dict(read_movie_genre(\"/Users/LYON/Desktop/DATA_MGMT_210/hw1/genreMovieSample.txt\")), calculate_average_rating(read_ratings_data(\"/Users/LYON/Desktop/DATA_MGMT_210/hw1/movieRatingSample.txt\")))"
   ]
  },
  {
   "cell_type": "markdown",
   "id": "9596edbc-04da-4315-aaa9-44f29894a4de",
   "metadata": {},
   "source": [
    "### Task3.5 ###"
   ]
  },
  {
   "cell_type": "code",
   "execution_count": 17,
   "id": "16cdf034-c040-4eab-a80c-8b0426ea0f7f",
   "metadata": {},
   "outputs": [],
   "source": [
    "def genre_popularity(new_genre_dict, rating_avg_dict, n = 5):\n",
    "    \n",
    "    popularity_dict = []\n",
    "    \n",
    "    for genre in new_genre_dict.keys():\n",
    "        rating = get_genre_rating(genre, new_genre_dict, rating_avg_dict)\n",
    "        popularity_dict.append((genre, rating))\n",
    "    \n",
    "    popularity_dict= sorted(popularity_dict, key=lambda item: item[1], reverse=True)\n",
    "            \n",
    "    return dict(popularity_dict[0:n])"
   ]
  },
  {
   "cell_type": "code",
   "execution_count": 18,
   "id": "43ec3bc3-042d-445b-b59e-66098a4d981d",
   "metadata": {},
   "outputs": [
    {
     "name": "stdout",
     "output_type": "stream",
     "text": [
      "{'Action': 3.53, 'Comedy': 3.5, 'Adventure': 3.36}\n"
     ]
    }
   ],
   "source": [
    "print(genre_popularity(create_genre_dict(read_movie_genre('/Users/LYON/Desktop/DATA_MGMT_210/hw1/genreMovieSample.txt')), calculate_average_rating(read_ratings_data('/Users/LYON/Desktop/DATA_MGMT_210/hw1/movieRatingSample.txt'))))"
   ]
  },
  {
   "cell_type": "markdown",
   "id": "fb74c27b-c512-4492-bdba-0c15c6a396e9",
   "metadata": {},
   "source": [
    "### Task4.1 ###"
   ]
  },
  {
   "cell_type": "code",
   "execution_count": 19,
   "id": "a4446fab-5ce1-499c-a8eb-fe89888c63b7",
   "metadata": {},
   "outputs": [],
   "source": [
    "def read_user_ratings(f):\n",
    "    \n",
    "    user_dict = {}\n",
    "\n",
    "    with open (f, 'r') as f:\n",
    "        contents = f.readlines()\n",
    "    f.close()\n",
    "\n",
    "    for i in range(len(contents)):\n",
    "        temp = contents[i][:-1].split('|')\n",
    "        contents[i] = [temp[0], float(temp[1]), int(temp[2])]\n",
    "\n",
    "    for i in contents:\n",
    "        if i[2] not in user_dict:\n",
    "            user_dict[i[2]] = []\n",
    "        user_dict[i[2]].append((i[0], i[1]))\n",
    "\n",
    "    return user_dict"
   ]
  },
  {
   "cell_type": "code",
   "execution_count": 20,
   "id": "57d13d46-e8fe-4e38-a2c0-2d19377a3227",
   "metadata": {},
   "outputs": [
    {
     "data": {
      "text/plain": [
       "{1: [('Toy Story (1995)', 4.0),\n",
       "  ('Grumpier Old Men (1995)', 4.0),\n",
       "  ('Heat (1995)', 4.0)],\n",
       " 5: [('Toy Story (1995)', 4.0)],\n",
       " 7: [('Toy Story (1995)', 4.5)],\n",
       " 15: [('Toy Story (1995)', 2.5)],\n",
       " 17: [('Toy Story (1995)', 4.5)],\n",
       " 18: [('Toy Story (1995)', 3.5),\n",
       "  ('Jumanji (1995)', 3.0),\n",
       "  ('Heat (1995)', 4.0)],\n",
       " 6: [('Jumanji (1995)', 4.0),\n",
       "  ('Tom and Huck (1995)', 3.0),\n",
       "  ('Grumpier Old Men (1995)', 5.0),\n",
       "  ('Waiting to Exhale (1995)', 3.0),\n",
       "  ('Father of the Bride Part II (1995)', 5.0),\n",
       "  ('Heat (1995)', 4.0),\n",
       "  ('GoldenEye (1995)', 3.0)],\n",
       " 8: [('Jumanji (1995)', 4.0), ('GoldenEye (1995)', 2.0)],\n",
       " 19: [('Jumanji (1995)', 3.0),\n",
       "  ('Grumpier Old Men (1995)', 3.0),\n",
       "  ('GoldenEye (1995)', 2.0)],\n",
       " 20: [('Jumanji (1995)', 3.0), ('Tom and Huck (1995)', 1.0)],\n",
       " 21: [('Jumanji (1995)', 3.5), ('GoldenEye (1995)', 5.0)],\n",
       " 43: [('Tom and Huck (1995)', 5.0),\n",
       "  ('Grumpier Old Men (1995)', 5.0),\n",
       "  ('Father of the Bride Part II (1995)', 5.0)],\n",
       " 274: [('Tom and Huck (1995)', 3.0)],\n",
       " 372: [('Tom and Huck (1995)', 2.0)],\n",
       " 414: [('Tom and Huck (1995)', 3.0)],\n",
       " 32: [('Grumpier Old Men (1995)', 3.0)],\n",
       " 42: [('Grumpier Old Men (1995)', 4.0)],\n",
       " 14: [('Waiting to Exhale (1995)', 3.0)],\n",
       " 84: [('Waiting to Exhale (1995)', 3.0)],\n",
       " 162: [('Waiting to Exhale (1995)', 3.0)],\n",
       " 262: [('Waiting to Exhale (1995)', 1.0)],\n",
       " 411: [('Waiting to Exhale (1995)', 2.0)],\n",
       " 31: [('Father of the Bride Part II (1995)', 3.0)],\n",
       " 45: [('Father of the Bride Part II (1995)', 3.0)],\n",
       " 58: [('Father of the Bride Part II (1995)', 4.0)],\n",
       " 66: [('Father of the Bride Part II (1995)', 4.0)],\n",
       " 11: [('Heat (1995)', 5.0), ('GoldenEye (1995)', 3.0)],\n",
       " 23: [('Heat (1995)', 4.0)],\n",
       " 24: [('Heat (1995)', 4.5)],\n",
       " 151: [('Sudden Death (1995)', 4.0)],\n",
       " 179: [('Sudden Death (1995)', 3.0)],\n",
       " 217: [('Sudden Death (1995)', 3.0)],\n",
       " 269: [('Sudden Death (1995)', 2.0)],\n",
       " 270: [('Sudden Death (1995)', 3.0)],\n",
       " 337: [('Sudden Death (1995)', 5.0)],\n",
       " 26: [('GoldenEye (1995)', 3.0)]}"
      ]
     },
     "execution_count": 20,
     "metadata": {},
     "output_type": "execute_result"
    }
   ],
   "source": [
    "read_user_ratings('movieRatingSample.txt')"
   ]
  },
  {
   "cell_type": "markdown",
   "id": "b5727dcf-b313-40dd-bf6f-74d04a52d9ba",
   "metadata": {},
   "source": [
    "### Task4.2 ###"
   ]
  },
  {
   "cell_type": "code",
   "execution_count": 21,
   "id": "245ecbfd-d8dd-467c-b93a-64aedda2a26e",
   "metadata": {},
   "outputs": [],
   "source": [
    "def get_user_genre(user_id, user_dict, genre_dict):\n",
    "    \n",
    "    user_genre_dict = {}\n",
    "    top_genre = ''\n",
    "\n",
    "    for i in user_dict[user_id]:\n",
    "        \n",
    "        if genre_dict[i[0]] in user_genre_dict:\n",
    "            user_genre_dict[genre_dict[i[0]]].append(float(i[1]))\n",
    "        else:\n",
    "            user_genre_dict[genre_dict[i[0]]] = [float(i[1])]\n",
    "        \n",
    "    for key,value in user_genre_dict.items():\n",
    "        avg = sum(value) / len(value)\n",
    "        user_genre_dict[key] = round(avg, 2)\n",
    "    \n",
    "    user_genre_dict = sorted(user_genre_dict.items(), key = lambda item: item[1], reverse = True)\n",
    "\n",
    "    top_genre, avg = user_genre_dict[0]\n",
    "\n",
    "    return top_genre"
   ]
  },
  {
   "cell_type": "code",
   "execution_count": 49,
   "id": "a3c35dda-b0fb-41ab-8a7d-71764d1ba496",
   "metadata": {},
   "outputs": [
    {
     "name": "stdout",
     "output_type": "stream",
     "text": [
      "Comedy\n"
     ]
    }
   ],
   "source": [
    "print(get_user_genre(6, read_user_ratings('movieRatingSample.txt'), read_movie_genre('genreMovieSample.txt')))"
   ]
  },
  {
   "cell_type": "markdown",
   "id": "9d2a696f-d62e-4860-8b78-bb08d49b94f6",
   "metadata": {},
   "source": [
    "### Task4.3 ###"
   ]
  },
  {
   "cell_type": "code",
   "execution_count": 23,
   "id": "56a4164a-c3fd-443a-80c9-c784b754e141",
   "metadata": {},
   "outputs": [],
   "source": [
    "def recommend_movies(user_id, user_dict, genre_dict, rating_avg_dict):\n",
    "    \n",
    "        movies = user_dict[user_id]\n",
    "        movie_names = []\n",
    "        \n",
    "        user_genre_rating = {}\n",
    "        for m in movies:\n",
    "                movie_names.append(m[0])\n",
    "                genre = genre_dict[m[0]]\n",
    "                rating = m[1]\n",
    "                \n",
    "                if genre in user_genre_rating:\n",
    "                    user_genre_rating[genre][0] += rating\n",
    "                    user_genre_rating[genre][1] += 1\n",
    "                else:\n",
    "                    user_genre_rating[genre] = [rating, 1]\n",
    "        \n",
    "        user_genre_average_rating = {}\n",
    "        \n",
    "        for g, t in user_genre_rating.items():\n",
    "                user_genre_average_rating[g] = t[0] / t[1]\n",
    "\n",
    "        top_genre = max(user_genre_average_rating, key = user_genre_average_rating.get)\n",
    "        \n",
    "        movies_top_genre_rating = []\n",
    "        for m, g in genre_dict.items():\n",
    "                if (g == top_genre) and (m not in movie_names):\n",
    "                        movies_top_genre_rating.append((m, rating_avg_dict[m]))\n",
    "                        \n",
    "        movies_top_genre_rating.sort(key = lambda item: item[1])\n",
    "        top_movies = movies_top_genre_rating\n",
    "        \n",
    "        return_dict = {}\n",
    "        if len(top_movies) >= 1:\n",
    "                return_dict[top_movies[0][0]] = top_movies[0][1]\n",
    "        if len(top_movies) >= 2:\n",
    "                return_dict[top_movies[1][0]] = top_movies[1][1] \n",
    "        if len(top_movies) >= 3:\n",
    "                return_dict[top_movies[2][0]] = top_movies[2][1]\n",
    "        return return_dict"
   ]
  },
  {
   "cell_type": "code",
   "execution_count": 24,
   "id": "1b3aa6a0-5ea6-42c0-9748-3cc7ac07f7a6",
   "metadata": {},
   "outputs": [
    {
     "data": {
      "text/plain": [
       "{}"
      ]
     },
     "execution_count": 24,
     "metadata": {},
     "output_type": "execute_result"
    }
   ],
   "source": [
    "recommend_movies(6, read_user_ratings('movieRatingSample.txt'), read_movie_genre('genreMovieSample.txt'), calculate_average_rating(read_ratings_data(\"/Users/LYON/Desktop/DATA_MGMT_210/hw1/movieRatingSample.txt\")))"
   ]
  },
  {
   "cell_type": "code",
   "execution_count": 50,
   "id": "de42cbe2-18aa-43ce-80a4-93d5ba78819f",
   "metadata": {},
   "outputs": [
    {
     "data": {
      "text/plain": [
       "{1: [('Toy Story (1995)', 4.0),\n",
       "  ('Grumpier Old Men (1995)', 4.0),\n",
       "  ('Heat (1995)', 4.0)],\n",
       " 5: [('Toy Story (1995)', 4.0)],\n",
       " 7: [('Toy Story (1995)', 4.5)],\n",
       " 15: [('Toy Story (1995)', 2.5)],\n",
       " 17: [('Toy Story (1995)', 4.5)],\n",
       " 18: [('Toy Story (1995)', 3.5),\n",
       "  ('Jumanji (1995)', 3.0),\n",
       "  ('Heat (1995)', 4.0)],\n",
       " 6: [('Jumanji (1995)', 4.0),\n",
       "  ('Tom and Huck (1995)', 3.0),\n",
       "  ('Grumpier Old Men (1995)', 5.0),\n",
       "  ('Waiting to Exhale (1995)', 3.0),\n",
       "  ('Father of the Bride Part II (1995)', 5.0),\n",
       "  ('Heat (1995)', 4.0),\n",
       "  ('GoldenEye (1995)', 3.0)],\n",
       " 8: [('Jumanji (1995)', 4.0), ('GoldenEye (1995)', 2.0)],\n",
       " 19: [('Jumanji (1995)', 3.0),\n",
       "  ('Grumpier Old Men (1995)', 3.0),\n",
       "  ('GoldenEye (1995)', 2.0)],\n",
       " 20: [('Jumanji (1995)', 3.0), ('Tom and Huck (1995)', 1.0)],\n",
       " 21: [('Jumanji (1995)', 3.5), ('GoldenEye (1995)', 5.0)],\n",
       " 43: [('Tom and Huck (1995)', 5.0),\n",
       "  ('Grumpier Old Men (1995)', 5.0),\n",
       "  ('Father of the Bride Part II (1995)', 5.0)],\n",
       " 274: [('Tom and Huck (1995)', 3.0)],\n",
       " 372: [('Tom and Huck (1995)', 2.0)],\n",
       " 414: [('Tom and Huck (1995)', 3.0)],\n",
       " 32: [('Grumpier Old Men (1995)', 3.0)],\n",
       " 42: [('Grumpier Old Men (1995)', 4.0)],\n",
       " 14: [('Waiting to Exhale (1995)', 3.0)],\n",
       " 84: [('Waiting to Exhale (1995)', 3.0)],\n",
       " 162: [('Waiting to Exhale (1995)', 3.0)],\n",
       " 262: [('Waiting to Exhale (1995)', 1.0)],\n",
       " 411: [('Waiting to Exhale (1995)', 2.0)],\n",
       " 31: [('Father of the Bride Part II (1995)', 3.0)],\n",
       " 45: [('Father of the Bride Part II (1995)', 3.0)],\n",
       " 58: [('Father of the Bride Part II (1995)', 4.0)],\n",
       " 66: [('Father of the Bride Part II (1995)', 4.0)],\n",
       " 11: [('Heat (1995)', 5.0), ('GoldenEye (1995)', 3.0)],\n",
       " 23: [('Heat (1995)', 4.0)],\n",
       " 24: [('Heat (1995)', 4.5)],\n",
       " 151: [('Sudden Death (1995)', 4.0)],\n",
       " 179: [('Sudden Death (1995)', 3.0)],\n",
       " 217: [('Sudden Death (1995)', 3.0)],\n",
       " 269: [('Sudden Death (1995)', 2.0)],\n",
       " 270: [('Sudden Death (1995)', 3.0)],\n",
       " 337: [('Sudden Death (1995)', 5.0)],\n",
       " 26: [('GoldenEye (1995)', 3.0)]}"
      ]
     },
     "execution_count": 50,
     "metadata": {},
     "output_type": "execute_result"
    }
   ],
   "source": [
    "user_dict = read_user_ratings('movieRatingSample.txt')\n",
    "user_dict"
   ]
  },
  {
   "cell_type": "code",
   "execution_count": 51,
   "id": "12580175-25e8-474d-b56f-a76aa8aac7a0",
   "metadata": {},
   "outputs": [
    {
     "data": {
      "text/plain": [
       "{'Toy Story (1995)': 'Adventure',\n",
       " 'Jumanji (1995)': 'Adventure',\n",
       " 'Tom and Huck (1995)': 'Adventure',\n",
       " 'Grumpier Old Men (1995)': 'Comedy',\n",
       " 'Waiting to Exhale (1995)': 'Comedy',\n",
       " 'Father of the Bride Part II (1995)': 'Comedy',\n",
       " 'Heat (1995)': 'Action',\n",
       " 'Sudden Death (1995)': 'Action',\n",
       " 'GoldenEye (1995)': 'Action'}"
      ]
     },
     "execution_count": 51,
     "metadata": {},
     "output_type": "execute_result"
    }
   ],
   "source": [
    "genre_dict = read_movie_genre('genreMovieSample.txt')\n",
    "genre_dict"
   ]
  },
  {
   "cell_type": "code",
   "execution_count": 52,
   "id": "4c103039-d6a2-46f5-93d8-3ee99864efbc",
   "metadata": {},
   "outputs": [
    {
     "data": {
      "text/plain": [
       "{'Toy Story (1995)': 3.83,\n",
       " 'Jumanji (1995)': 3.42,\n",
       " 'Tom and Huck (1995)': 2.83,\n",
       " 'Grumpier Old Men (1995)': 4.0,\n",
       " 'Waiting to Exhale (1995)': 2.5,\n",
       " 'Father of the Bride Part II (1995)': 4.0,\n",
       " 'Heat (1995)': 4.25,\n",
       " 'Sudden Death (1995)': 3.33,\n",
       " 'GoldenEye (1995)': 3.0}"
      ]
     },
     "execution_count": 52,
     "metadata": {},
     "output_type": "execute_result"
    }
   ],
   "source": [
    "rating_avg_dict = calculate_average_rating(read_ratings_data(\"movieRatingSample.txt\"))\n",
    "rating_avg_dict"
   ]
  },
  {
   "cell_type": "code",
   "execution_count": 73,
   "id": "cd57753a-4475-4b06-8b80-3e3e733110b2",
   "metadata": {},
   "outputs": [
    {
     "data": {
      "text/plain": [
       "{'GoldenEye (1995)': 3.0}"
      ]
     },
     "execution_count": 73,
     "metadata": {},
     "output_type": "execute_result"
    }
   ],
   "source": [
    "recommend_dict = {}\n",
    "\n",
    "user_id = 6\n",
    "\n",
    "genre = get_user_genre(user_id, user_dict, genre_dict)\n",
    "\n",
    "for genre in create_genre_dict(genre_dict):\n",
    "    genre_movie = create_genre_dict(genre_dict)[genre]\n",
    "    \n",
    "for i in genre_movie:\n",
    "    for k,v in user_dict[user_id]:\n",
    "        if i != k:\n",
    "            recommend_movie = i\n",
    "        \n",
    "        \n",
    "# for i in genre_movie:\n",
    "#     if genre_movie[i] not in user_dict[user_id]:\n",
    "#         movie = genre_movie[i]\n",
    "        \n",
    "#         if genre_dict[i[0]] in user_genre_dict:\n",
    "#             user_genre_dict[genre_dict[i[0]]].append(float(i[1]))\n",
    "#         else:\n",
    "#             user_genre_dict[genre_dict[i[0]]] = [float(i[1])]\n",
    "recommend_movie\n",
    "\n",
    "recommend_dict[recommend_movie] = rating_avg_dict[recommend_movie]\n",
    "\n",
    "recommend_dict"
   ]
  },
  {
   "cell_type": "code",
   "execution_count": 66,
   "id": "6d536eeb-4ea7-4882-accb-48decd53f219",
   "metadata": {},
   "outputs": [
    {
     "name": "stdout",
     "output_type": "stream",
     "text": [
      "Heat (1995)\n",
      "Sudden Death (1995)\n",
      "GoldenEye (1995)\n"
     ]
    }
   ],
   "source": [
    "for i in genre_movie:\n",
    "    print(i)"
   ]
  },
  {
   "cell_type": "code",
   "execution_count": 61,
   "id": "ab6ee39a-68c7-4dbe-862f-72d0ab9b57fc",
   "metadata": {},
   "outputs": [
    {
     "name": "stdout",
     "output_type": "stream",
     "text": [
      "Jumanji (1995)\n",
      "Tom and Huck (1995)\n",
      "Grumpier Old Men (1995)\n",
      "Waiting to Exhale (1995)\n",
      "Father of the Bride Part II (1995)\n",
      "Heat (1995)\n",
      "GoldenEye (1995)\n"
     ]
    }
   ],
   "source": [
    "for k,v in user_dict[user_id]:\n",
    "    print(k)"
   ]
  },
  {
   "cell_type": "code",
   "execution_count": null,
   "id": "88602a95-0af6-46b2-98ae-7c72d33c8c64",
   "metadata": {},
   "outputs": [],
   "source": [
    "movies = user_dict[user_id]\n",
    "movie_names = []\n",
    "        \n",
    "user_genre_rating = {}\n",
    "\n",
    "for m in movies:\n",
    "    movie_names.append(m[0])\n",
    "    genre = genre_dict[m[0]]\n",
    "    rating = m[1]\n",
    "                \n",
    "    if genre in user_genre_rating:\n",
    "        user_genre_rating[genre][0] += rating\n",
    "        user_genre_rating[genre][1] += 1\n",
    "    else:\n",
    "        user_genre_rating[genre] = [rating, 1]\n",
    "        \n",
    "    user_genre_average_rating = {}\n",
    "        \n",
    "    for g, t in user_genre_rating.items():\n",
    "        user_genre_average_rating[g] = t[0] / t[1]\n",
    "\n",
    "    top_genre = max(user_genre_average_rating, key = user_genre_average_rating.get)\n",
    "        \n",
    "    movies_top_genre_rating = []\n",
    "    for m, g in genre_dict.items():\n",
    "        if (g == top_genre) and (m not in movie_names):\n",
    "            movies_top_genre_rating.append((m, rating_avg_dict[m]))\n",
    "                        \n",
    "    movies_top_genre_rating.sort(key = lambda item: item[1])\n",
    "    top_movies = movies_top_genre_rating\n",
    "        \n",
    "    return_dict = {}\n",
    "    if len(top_movies) >= 1:\n",
    "        return_dict[top_movies[0][0]] = top_movies[0][1]\n",
    "    if len(top_movies) >= 2:\n",
    "        return_dict[top_movies[1][0]] = top_movies[1][1] \n",
    "        if len(top_movies) >= 3:\n",
    "        return_dict[top_movies[2][0]] = top_movies[2][1]\n",
    "    return return_dict"
   ]
  }
 ],
 "metadata": {
  "kernelspec": {
   "display_name": "Python 3",
   "language": "python",
   "name": "python3"
  },
  "language_info": {
   "codemirror_mode": {
    "name": "ipython",
    "version": 3
   },
   "file_extension": ".py",
   "mimetype": "text/x-python",
   "name": "python",
   "nbconvert_exporter": "python",
   "pygments_lexer": "ipython3",
   "version": "3.8.8"
  }
 },
 "nbformat": 4,
 "nbformat_minor": 5
}
