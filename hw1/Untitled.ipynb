{
 "cells": [
  {
   "cell_type": "code",
   "execution_count": null,
   "id": "be8e03d2-be51-4246-abce-a8c98e42c529",
   "metadata": {},
   "outputs": [],
   "source": [
    "def getShots(f, 10000<=n<=500000):\n",
    "    \n",
    "    shots_dict = {}\n",
    "    contents = []\n",
    "    \n",
    "    with open (f, \"r\") as f:\n",
    "        contents = f.readlines()\n",
    "    f.close()\n",
    "    \n",
    "     for i in range(len(contents)):\n",
    "        temp = contents[i][:-1].split(\":\")\n",
    "\n",
    "    for i in contents:\n",
    "        shots_dict[i[0]].append(i[1])\n",
    "    \n",
    "    shots_dict = dict(sorted(shots_dict.items(), key=lambda item: item[1], reverse=True))\n",
    "    \n",
    "    for letter in shots_dict:\n",
    "        if letter.isdigit():\n",
    "            digit += digit\n",
    "            \n",
    "    digit = int (digit)\n",
    "    print(shots_dict)\n",
    "\n",
    "    resX = \"\"\n",
    "    print(len(find_x))\n",
    "    if (find_x == \"January\" or find_x == \"Jan\"):\n",
    "        resX += \"1/{}\".format(digit)\n",
    "    \n",
    "    if (find_x == \"Feburary\" or find_x == \"Feb\"):\n",
    "        resX += \"2/{}\".format(digit)\n",
    "    \n",
    "    if (find_x == \"March\" or find_x == \"Mar\"):\n",
    "        resX += \"3/{}\".format(digit)\n",
    "    \n",
    "    if (find_x == \"April\" or find_x == \"Apr\"):\n",
    "        resX += \"4/{}\".format(digit)\n",
    "    \n",
    "    if (find_x == \"May\" or find_x == \"May\"):\n",
    "        resX += \"5/{}\".format(digit)\n",
    "        \n",
    "    if (find_x == \"June\" or find_x == \"Jun\"):\n",
    "        resX += \"6/{}\".format(digit)\n",
    "    \n",
    "    if (find_x == \"July\" or find_x == \"Jul\"):\n",
    "        resX += \"7/{}\".format(digit)\n",
    "    \n",
    "    if (find_x == \"August\" or find_x == \"Aug\"):\n",
    "        resX += \"8/{}\".format(digit)\n",
    "    \n",
    "    if (find_x == \"September\" or find_x == \"Sep\"):\n",
    "        resX += \"9/{}\".format(digit)\n",
    "    \n",
    "    if (find_x == \"October\" or find_x == \"Oct\"):\n",
    "        resX += \"10/{}\".format(digit) \n",
    "    \n",
    "    if (find_x == \"November\" or find_x == \"Nov\"):\n",
    "        resX += \"11/{}\".format(digit)\n",
    "    \n",
    "    if (find_x == \"December\" or find_x == \"Dec\"):\n",
    "        resX += \"12/{}\".format(digit)\n",
    "\n",
    "    return shots_dict"
   ]
  },
  {
   "cell_type": "code",
   "execution_count": 12,
   "id": "91f687ff-9673-4638-8338-ce0a71d2cf7e",
   "metadata": {},
   "outputs": [],
   "source": [
    "from collections import Counter\n",
    "\n",
    "def classify(file):\n",
    "\n",
    "    word_counts = Counter()\n",
    "    for line in open(file):\n",
    "        tokens = line.split()\n",
    "    for token in tokens:\n",
    "        word_counts.update([token.lower().strip(',.!?')])\n",
    "    \n",
    "    len_of_list = len(word_counts)\n",
    "    if len_of_dict < 4:\n",
    "        break\n",
    "    else:\n",
    "        return dict(list(word_counts.items())[0:n])\n",
    "\n",
    "    word_counts = dict(sorted(word_counts.items(), key=lambda item: item[1]))\n",
    "    \n",
    "    "
   ]
  },
  {
   "cell_type": "code",
   "execution_count": 20,
   "id": "bb49675d-0b41-4967-b1de-e5e70a4dae70",
   "metadata": {},
   "outputs": [],
   "source": [
    "from collections import Counter\n",
    "word_counts = Counter()\n",
    "for line in open('/Users/LYON/Desktop/DATA_MGMT_210/Lectures/exam.txt'):\n",
    "    tokens = line.split()  # separate into non-whitespace sequences\n",
    "    for token in tokens:\n",
    "        word_counts.update([token.lower().strip(',.!?')])  # strip ',' and '.' from words"
   ]
  },
  {
   "cell_type": "code",
   "execution_count": 21,
   "id": "5b0c5199-ea8a-49fe-94f3-b31eb0d5f387",
   "metadata": {},
   "outputs": [
    {
     "name": "stdout",
     "output_type": "stream",
     "text": [
      "Counter({'this': 2, 'movie': 2, 'is': 1, 'an': 1, 'absolutely': 1, 'amazing': 1, 'crazy': 1, 'or': 1, 'what': 1, \"it's\": 1, 'the': 1, 'funniest': 1, 'year': 1})\n"
     ]
    }
   ],
   "source": [
    "print(word_counts)"
   ]
  },
  {
   "cell_type": "code",
   "execution_count": 66,
   "id": "61966b63-3888-4ca1-9636-dc0a9b3eb7e4",
   "metadata": {},
   "outputs": [
    {
     "name": "stdout",
     "output_type": "stream",
     "text": [
      "[(1, 2), (1, 5), (1, 8), (2, 1), (2, 4), (2, 7), (3, 3), (3, 6), (3, 9), (4, 2), (4, 5), (4, 8), (5, 1), (5, 4), (5, 7), (6, 3), (6, 6), (6, 9), (7, 2), (7, 5), (7, 8), (8, 1), (8, 4), (8, 7), (9, 3), (9, 6), (9, 9)]\n"
     ]
    }
   ],
   "source": [
    "res = [(x,y) for x in range(1,10) for y in range(1,10) if((x + y) % 3 == 0) if ((x*y) == (y*x))]\n",
    "print(res)"
   ]
  },
  {
   "cell_type": "code",
   "execution_count": 49,
   "id": "6f26369b-0aee-4530-8e1c-7e7e7e9a6aba",
   "metadata": {},
   "outputs": [
    {
     "name": "stdout",
     "output_type": "stream",
     "text": [
      "['FRF', 'FRP', 'FCF', 'FCP', 'SRF', 'SRP', 'SCF', 'SCP', 'JRF', 'JRP', 'JCF', 'JCP', 'ERF', 'ERP', 'ECF', 'ECP']\n"
     ]
    }
   ],
   "source": [
    "res = [x + y + z for x in ['F', 'S', 'J', 'E'] for y in ['R', 'C'] for z in ['F','P']]\n",
    "print(res)"
   ]
  },
  {
   "cell_type": "code",
   "execution_count": null,
   "id": "e16b0ede-e0f4-4c1f-873f-16247370dc3a",
   "metadata": {},
   "outputs": [],
   "source": []
  }
 ],
 "metadata": {
  "kernelspec": {
   "display_name": "Python 3",
   "language": "python",
   "name": "python3"
  },
  "language_info": {
   "codemirror_mode": {
    "name": "ipython",
    "version": 3
   },
   "file_extension": ".py",
   "mimetype": "text/x-python",
   "name": "python",
   "nbconvert_exporter": "python",
   "pygments_lexer": "ipython3",
   "version": "3.8.8"
  }
 },
 "nbformat": 4,
 "nbformat_minor": 5
}
