{
 "cells": [
  {
   "cell_type": "code",
   "execution_count": null,
   "id": "3425f248-f44d-4994-9df1-9b9ac8b6b6ec",
   "metadata": {},
   "outputs": [],
   "source": [
    "def tempconvert():\n",
    "    dir = input(\"Enter 'f2c' or 'c2f': \")\n",
    "    try:\n",
    "        if dir == 'f2c':\n",
    "            f = float(input('enter F: '))\n",
    "            c = (f-32)/9 * 5\n",
    "            return c\n",
    "        else:\n",
    "            c = float(input('enter C: '))\n",
    "            f = c * 9/5 + 32\n",
    "            return f\n",
    "    except ValueError as err:\n",
    "        print(err)"
   ]
  },
  {
   "cell_type": "code",
   "execution_count": null,
   "id": "3e2b0bad-61ab-46d6-a123-e475cf8494c6",
   "metadata": {},
   "outputs": [],
   "source": [
    "tempconvert()"
   ]
  },
  {
   "cell_type": "code",
   "execution_count": null,
   "id": "8ca4ab33-49ff-46f5-9893-40ce47b2233d",
   "metadata": {},
   "outputs": [],
   "source": [
    "def sum_it(cap):\n",
    "    num = 1\n",
    "    sum = 0\n",
    "    while num <= cap:\n",
    "        sum += num\n",
    "        num += 1\n",
    "    return sum"
   ]
  },
  {
   "cell_type": "code",
   "execution_count": null,
   "id": "f6beb732-f498-4dc2-959c-4042c285960c",
   "metadata": {},
   "outputs": [],
   "source": [
    "print(f'sum = {sum_it(5)}')"
   ]
  },
  {
   "cell_type": "code",
   "execution_count": null,
   "id": "971cbb77-6208-4a97-921a-3f44aadeac75",
   "metadata": {},
   "outputs": [],
   "source": [
    "py convertargs.py"
   ]
  },
  {
   "cell_type": "code",
   "execution_count": null,
   "id": "316cdf47-3f84-4c6b-9fe1-5110d28464d1",
   "metadata": {},
   "outputs": [],
   "source": [
    "sum = 0\n",
    "while True:\n",
    "    try:\n",
    "        val = int(input('Enter next integer, 0 to stop: '))\n",
    "        if val == 0:\n",
    "            break\n",
    "        sum += val\n",
    "    except ValueError:\n",
    "        print(\"Input must be an integer\")\n",
    "print(sum)"
   ]
  },
  {
   "cell_type": "code",
   "execution_count": null,
   "id": "e0b1f57f-6b43-462f-a188-456d7a20da9e",
   "metadata": {},
   "outputs": [],
   "source": [
    "import math\n",
    "\n",
    "def is_prime(num):\n",
    "if num < 1:\n",
    "print('Number must be positive integer')\n",
    "return\n",
    "if num == 1:\n",
    "return False\n",
    "if num == 2:\n",
    "return True\n",
    "if num % 2 == 0:\n",
    "return False\n",
    "\n",
    "# check odd numbers for divisors\n",
    "d = 3\n",
    "while (d <= math.sqrt(num)):\n",
    "if num % d == 0:\n",
    "return False\n",
    "d += 2\n",
    "return True"
   ]
  },
  {
   "cell_type": "code",
   "execution_count": null,
   "id": "11b2873c-69fa-4575-be3d-9c70cf15432e",
   "metadata": {},
   "outputs": [],
   "source": [
    "atup = (2,4)"
   ]
  },
  {
   "cell_type": "code",
   "execution_count": null,
   "id": "64bd944a-0a86-4717-b0e8-9769be0fa599",
   "metadata": {},
   "outputs": [],
   "source": [
    "atup"
   ]
  },
  {
   "cell_type": "code",
   "execution_count": null,
   "id": "532d1056-1d2f-48a6-931e-2c6d6612e953",
   "metadata": {},
   "outputs": [],
   "source": [
    "atup = tuple((2,4))"
   ]
  },
  {
   "cell_type": "code",
   "execution_count": null,
   "id": "ec7bb14d-1766-403d-a389-6fa20d78a1c7",
   "metadata": {},
   "outputs": [],
   "source": [
    "atup"
   ]
  },
  {
   "cell_type": "code",
   "execution_count": null,
   "id": "06161efc-dcdb-425d-a1ac-6228fdfe5bf7",
   "metadata": {},
   "outputs": [],
   "source": [
    "atup[1]"
   ]
  },
  {
   "cell_type": "code",
   "execution_count": null,
   "id": "bf44f524-fc70-42de-ba9e-b713607f4b03",
   "metadata": {},
   "outputs": [],
   "source": [
    "stup = tuple('abcde')\n",
    "stup"
   ]
  },
  {
   "cell_type": "code",
   "execution_count": null,
   "id": "94b73374-93a9-4e66-8e72-1fb8ca011fac",
   "metadata": {},
   "outputs": [],
   "source": [
    "stup[4]"
   ]
  },
  {
   "cell_type": "code",
   "execution_count": null,
   "id": "7626d2b3-8999-4d44-b3fe-9fa062f0ee0d",
   "metadata": {},
   "outputs": [],
   "source": [
    "leapyrs = [yr for yr in range(1980,2025) if (yr % 4 == 0)]\n",
    "print(leapyrs)"
   ]
  },
  {
   "cell_type": "code",
   "execution_count": null,
   "id": "8cfba89e-ed9e-44f1-8367-962f16c9eef5",
   "metadata": {},
   "outputs": [],
   "source": [
    "lst1 = [(x1,y1) for x1 in range(5) for y1 in range(5) if (0<=x1) and (x1<5) and (x1<y1) and (y1<5)]\n",
    "print(lst1)"
   ]
  },
  {
   "cell_type": "code",
   "execution_count": null,
   "id": "2b123065-dd9b-4599-92ba-9cac75b9c63c",
   "metadata": {},
   "outputs": [],
   "source": [
    "lst2 = [(x,y) for x in range(5) for y in range(x+1,5)]\n",
    "print(lst2)"
   ]
  },
  {
   "cell_type": "code",
   "execution_count": null,
   "id": "dfe64c91-97ed-4d5e-8df0-85d7385771d7",
   "metadata": {},
   "outputs": [],
   "source": [
    "lof1 = [[j for j in range(2,6)] for i in range(4,8)]\n",
    "print(lof1)"
   ]
  },
  {
   "cell_type": "code",
   "execution_count": null,
   "id": "dd611b48-d8f2-484e-9953-df04dbfcb0c8",
   "metadata": {},
   "outputs": [],
   "source": [
    "list_of_lists = [[j+(i-1)*3 for j in range(1,4)] for i in range(1,4)]\n",
    "print(list_of_lists)"
   ]
  },
  {
   "cell_type": "code",
   "execution_count": null,
   "id": "5dab3e6c-4ccc-4ef1-8927-4687b7be59a4",
   "metadata": {},
   "outputs": [],
   "source": [
    "lst = [3,-4,-6,2,6,4,-1,4,2,6,9,0]\n",
    "lst.sort(key=abs)\n",
    "print(lst)"
   ]
  },
  {
   "cell_type": "code",
   "execution_count": null,
   "id": "d670a766-fd65-4de7-8eb4-a2f80665d8ad",
   "metadata": {},
   "outputs": [],
   "source": [
    "lam = lambda a,b: a+b\n",
    "lam(3,5)"
   ]
  },
  {
   "cell_type": "code",
   "execution_count": null,
   "id": "e410fb41-26eb-4817-a099-55dc2e1a30c7",
   "metadata": {},
   "outputs": [],
   "source": [
    "lam1 = lambda tup: tup[0]/tup[1]\n",
    "lam1((3,2))"
   ]
  },
  {
   "cell_type": "code",
   "execution_count": null,
   "id": "39a9d34b-466d-4082-989f-b5a3ac3bfa16",
   "metadata": {},
   "outputs": [],
   "source": [
    "import re"
   ]
  },
  {
   "cell_type": "code",
   "execution_count": null,
   "id": "c6bb3624-8f08-45e2-ad70-a3bcc2515a04",
   "metadata": {},
   "outputs": [],
   "source": [
    "res = re.search(r'\\w{4,}\\s+',\"Hey! What's up?\")\n",
    "print(res)"
   ]
  },
  {
   "cell_type": "code",
   "execution_count": null,
   "id": "18cbb13f-0581-42d2-82ea-a8040f9dac69",
   "metadata": {},
   "outputs": [],
   "source": [
    "pattrn = re.compile(r'\\s*\\((\\d{3})\\)(\\d{3}-\\d{4})')\n",
    "res = pattrn.match('(848)445-2790')\n",
    "print(res.groups())"
   ]
  },
  {
   "cell_type": "code",
   "execution_count": null,
   "id": "6e122f9c-74a3-4693-9788-8c7d571daf39",
   "metadata": {},
   "outputs": [],
   "source": [
    "import re"
   ]
  },
  {
   "cell_type": "code",
   "execution_count": null,
   "id": "ad834d96-7f3c-4eca-8561-a0d09f5a57ea",
   "metadata": {},
   "outputs": [],
   "source": [
    "# Can suppress capture using ?: inside group\n",
    "named_addr = re.compile(r\"\"\"\n",
    "\\s* # leading white space\n",
    "\\#? # optional, use \\ before # to disambiguate from comment #\n",
    "\\s* # possible whitespace\n",
    "(?:\\d+) # don't capture apt num\n",
    "\\s+ # at least one white space \n",
    "(?:.*)?, # don't capture street \n",
    "\\s* # possible whitespace\n",
    "(?P<city>.*)?, # capture city name, name it as 'city'\n",
    "\\s* # possible white space\n",
    "(?P<state>[A-Z]{2}) # capture state code, name it as 'state'\n",
    "\\s* # possible white space\n",
    "(?:\\d{5}) # don't capture zip code\n",
    "\"\"\", re.VERBOSE)"
   ]
  },
  {
   "cell_type": "code",
   "execution_count": null,
   "id": "844204fb-f4fe-4ca5-93e5-366026093359",
   "metadata": {},
   "outputs": [],
   "source": [
    "res = re.split('\\W+', 'This is a bunch_of words!')\n",
    "print(res)"
   ]
  },
  {
   "cell_type": "code",
   "execution_count": null,
   "id": "d67d2f07-03e5-4fce-a44d-8b45aa0976d6",
   "metadata": {},
   "outputs": [],
   "source": [
    "test_str = '26.0   4.   121.0      113.0      2234.      12.5   70.  2.\t\"bmw 2002\"'"
   ]
  },
  {
   "cell_type": "code",
   "execution_count": null,
   "id": "0e2d3a1e-9116-44f6-a145-e61462fc0f2b",
   "metadata": {},
   "outputs": [],
   "source": [
    "car_reg = re.compile(r\"\"\"\n",
    "\\s* # skip over whitespaces at start\n",
    "(?P<mpg>\\d{2}\\.\\d) # mpg field is of the form dd.d\n",
    "\\s* # skip white spaces\n",
    "(?P<cyl>\\d)\\. # cylinders field is of the form d., only want d\n",
    ".* # skip all intervening stuff\n",
    "(?P<yy>\\d{2})\\. # year is of form dd., only want dd\n",
    "\\s* # skip whitespaces\n",
    "\\d\\. # origin is of the form d.\n",
    ".* # skip intervening stuff\n",
    "(?P<name>\".*\") # car name is in double quotes, want double quotes\n",
    "\"\"\", re.VERBOSE)"
   ]
  },
  {
   "cell_type": "code",
   "execution_count": null,
   "id": "dd1e179c-1b12-40a0-8c4b-71c22602694d",
   "metadata": {},
   "outputs": [],
   "source": [
    "res = car_reg.match(test_str)\n",
    "res.groupdict()"
   ]
  },
  {
   "cell_type": "code",
   "execution_count": null,
   "id": "9d108abd-e0da-4963-8e33-a84445683a60",
   "metadata": {},
   "outputs": [],
   "source": [
    "res = car_reg.match(test_str)\n",
    "if res:\n",
    "    car_dict = res.groupdict()\n",
    "    keys = ['name', 'yy', 'cyl', 'mpg']\n",
    "    values  = [car_dict[k] for k in ['name', 'yy', 'cyl', 'mpg']]\n",
    "    values[1] = '20' + values[1]\n",
    "    print(','.join(values))"
   ]
  },
  {
   "cell_type": "code",
   "execution_count": null,
   "id": "ca467561-2c00-438e-b835-d862a4218685",
   "metadata": {},
   "outputs": [],
   "source": [
    "def my_filter(in_line):\n",
    "    res = car_reg.match(in_line)\n",
    "    if res:\n",
    "        car_dict = res.groupdict()\n",
    "        values = [car_dict[k] for k in ['name','yy','cyl','mpg']]\n",
    "        values[1] = '19' + values[1]\n",
    "        return ','.join(values) \n",
    "    return None"
   ]
  },
  {
   "cell_type": "code",
   "execution_count": null,
   "id": "10aa1f0c-43e1-4d5f-930e-10a193fba042",
   "metadata": {},
   "outputs": [],
   "source": [
    "for i,line in enumerate(open('/Users/LYON/Desktop/DATA_MGMT_210/Lectures/auto-mpg-original.txt')):\n",
    "    out_line = my_filter(line)\n",
    "    if out_line:\n",
    "        print(my_filter(line))\n",
    "    if i > 14:\n",
    "        break"
   ]
  },
  {
   "cell_type": "code",
   "execution_count": null,
   "id": "7461a9a2-3c95-41b6-8783-ea184d31a8f1",
   "metadata": {},
   "outputs": [],
   "source": [
    "for i,line in enumerate(open('/Users/LYON/Desktop/DATA_MGMT_210/Lectures/auto-mpg-original.txt')):\n",
    "    print(f'line{i}')\n",
    "    flds = line.split() # on white space\n",
    "    out_flds = []\n",
    "    out_flds.append(flds[0])\n",
    "    out_flds.append(flds[1][:-1])\n",
    "    out_flds.append('19' + flds[6][:-1])\n",
    "    out_flds.append(flds[8])\n",
    "    print(','.join(out_flds))\n",
    "    if i > 0:\n",
    "        break"
   ]
  },
  {
   "cell_type": "code",
   "execution_count": 1,
   "id": "d4784896-728d-42a0-bcab-2ac3df3c2bf6",
   "metadata": {},
   "outputs": [],
   "source": [
    "import csv"
   ]
  },
  {
   "cell_type": "code",
   "execution_count": 5,
   "id": "c05a0462-b830-4b69-9823-4d32332feebf",
   "metadata": {},
   "outputs": [
    {
     "name": "stdout",
     "output_type": "stream",
     "text": [
      "009 >>> ['4.4', '2', '9', '1.4', '0.2', 'Iris-setosa']\n",
      "064 >>> ['6.1', '4.7', '1.4', 'Iris-versicolor']\n",
      "078 >>> ['6.7', '3.0', '4.5', '1.7', '6.5', 'Iris-versicolor']\n",
      "103 >>> ['7', '1', '3.0', '5.9', '2.1', 'Iris-virginica']\n",
      "113 >>> ['6.8', '3.0', '5.5', '2.1']\n",
      "152 >>> []\n"
     ]
    }
   ],
   "source": [
    "with open('iris-messy.csv') as irisfile:\n",
    "    reader = csv.reader(irisfile)\n",
    "    next(reader) \n",
    "    for num, row in enumerate(reader):\n",
    "        if len(row) != 5:\n",
    "            print(f'{(num+1):03} >>> {row}')"
   ]
  },
  {
   "cell_type": "code",
   "execution_count": 1,
   "id": "2fd4f06b-70c9-4f09-855f-777181e6adb2",
   "metadata": {},
   "outputs": [],
   "source": [
    "import json"
   ]
  },
  {
   "cell_type": "code",
   "execution_count": 2,
   "id": "80eb6b89-6207-4109-b5fb-23db6f63c067",
   "metadata": {},
   "outputs": [
    {
     "name": "stdout",
     "output_type": "stream",
     "text": [
      "{'quiz_scores': [{'name': 'Anika', 'scores': [38, 40, 36, 40, 32]}, {'name': 'Amir', 'scores': [36, 38, 40, 30, 34]}]}\n"
     ]
    }
   ],
   "source": [
    "# 2 students with quiz scores, value is array of dictionaries\n",
    "json4 = '{\"quiz_scores\" : [{\"name\": \"Anika\", \"scores\":[38,40,36,40,32]}, {\"name\": \"Amir\", \"scores\":[36,38,40,30,34]}]}'\n",
    "dict4 = json.loads(json4)\n",
    "print(dict4)"
   ]
  },
  {
   "cell_type": "code",
   "execution_count": 3,
   "id": "8f756a83-f7c8-4213-8da2-74955d82cc6f",
   "metadata": {},
   "outputs": [],
   "source": [
    "with open('quiz_scores.json', 'w') as qsfile:\n",
    "    json.dump(dict4, qsfile)"
   ]
  },
  {
   "cell_type": "code",
   "execution_count": 4,
   "id": "5aa6fd5f-daca-4083-87cc-d008059305a4",
   "metadata": {},
   "outputs": [
    {
     "name": "stdout",
     "output_type": "stream",
     "text": [
      "{'quiz_scores': [{'name': 'Anika', 'scores': [38, 40, 36, 40, 32]}, {'name': 'Amir', 'scores': [36, 38, 40, 30, 34]}]}\n"
     ]
    }
   ],
   "source": [
    "with open('quiz_scores.json') as qsfile:\n",
    "    qs_scores = json.load(qsfile)\n",
    "print(qs_scores)"
   ]
  },
  {
   "cell_type": "code",
   "execution_count": 5,
   "id": "7d5e7236-95cf-49d8-95ac-3b83a7820035",
   "metadata": {},
   "outputs": [],
   "source": [
    "jsonstr = json.loads('\"JSON - Javascript Object Notation\"')"
   ]
  },
  {
   "cell_type": "code",
   "execution_count": 6,
   "id": "345a01e5-e13b-410a-a223-40304ce961dc",
   "metadata": {},
   "outputs": [
    {
     "data": {
      "text/plain": [
       "'JSON - Javascript Object Notation'"
      ]
     },
     "execution_count": 6,
     "metadata": {},
     "output_type": "execute_result"
    }
   ],
   "source": [
    "jsonstr"
   ]
  },
  {
   "cell_type": "code",
   "execution_count": 7,
   "id": "4d03ab52-3fca-49b7-bc8b-d945c171d9fd",
   "metadata": {},
   "outputs": [
    {
     "data": {
      "text/plain": [
       "[1, 2, 3, 4]"
      ]
     },
     "execution_count": 7,
     "metadata": {},
     "output_type": "execute_result"
    }
   ],
   "source": [
    "jsonarr = json.loads('[1,2,3,4]')\n",
    "jsonarr"
   ]
  },
  {
   "cell_type": "code",
   "execution_count": 10,
   "id": "783af6bb-e2e1-45dc-8b51-8a242eb8a662",
   "metadata": {},
   "outputs": [
    {
     "data": {
      "text/plain": [
       "{'Anika Sorenson': [38, 40, 36, 40, 32], 'Amir Sharif': [36, 38, 40, 30, 34]}"
      ]
     },
     "execution_count": 10,
     "metadata": {},
     "output_type": "execute_result"
    }
   ],
   "source": [
    "qs_dict = {}\n",
    "for line in open('qs_scores.txt'):\n",
    "    contents = line.split('|')\n",
    "    scores = contents[1].split(',')\n",
    "    qs_scores = [int(qs) for qs in scores]\n",
    "    qs_dict[contents[0].strip()] = qs_scores\n",
    "qs_dict"
   ]
  },
  {
   "cell_type": "code",
   "execution_count": 13,
   "id": "1f996fe0-08e0-409b-a51d-f3ae5c6d2d77",
   "metadata": {},
   "outputs": [],
   "source": [
    "with open('quiz_scores.json', 'w') as qsfile:\n",
    "    json.dump(qs_dict, qsfile)"
   ]
  },
  {
   "cell_type": "code",
   "execution_count": 14,
   "id": "18a3538f-6177-4076-80d7-6574e29db222",
   "metadata": {},
   "outputs": [],
   "source": [
    "import requests"
   ]
  },
  {
   "cell_type": "code",
   "execution_count": 17,
   "id": "70c79240-a0c7-4fe1-939e-c50c5a49d59d",
   "metadata": {},
   "outputs": [],
   "source": [
    "nobel_url = 'http://api.nobelprize.org/v1/prize.json'\n",
    "resp = requests.get(nobel_url)\n",
    "nobels = json.loads(resp.text)"
   ]
  },
  {
   "cell_type": "code",
   "execution_count": 18,
   "id": "f3570e61-18f5-4259-baca-d47d7d253b32",
   "metadata": {},
   "outputs": [
    {
     "data": {
      "text/plain": [
       "658"
      ]
     },
     "execution_count": 18,
     "metadata": {},
     "output_type": "execute_result"
    }
   ],
   "source": [
    "len(nobels['prizes'])"
   ]
  },
  {
   "cell_type": "code",
   "execution_count": 19,
   "id": "c140caee-4b70-4710-aa89-87d9196d5851",
   "metadata": {},
   "outputs": [
    {
     "name": "stdout",
     "output_type": "stream",
     "text": [
      "{'year': '2021', 'category': 'chemistry', 'laureates': [{'id': '1002', 'firstname': 'Benjamin', 'surname': 'List', 'motivation': '\"for the development of asymmetric organocatalysis\"', 'share': '2'}, {'id': '1003', 'firstname': 'David', 'surname': 'MacMillan', 'motivation': '\"for the development of asymmetric organocatalysis\"', 'share': '2'}]}\n"
     ]
    }
   ],
   "source": [
    "print(nobels['prizes'][0])"
   ]
  },
  {
   "cell_type": "code",
   "execution_count": 26,
   "id": "0939a474-ef4e-425a-b76b-6b6b63a16941",
   "metadata": {},
   "outputs": [
    {
     "data": {
      "text/plain": [
       "[{'year': '2021',\n",
       "  'category': 'chemistry',\n",
       "  'laureates': [{'id': '1002',\n",
       "    'firstname': 'Benjamin',\n",
       "    'surname': 'List',\n",
       "    'motivation': '\"for the development of asymmetric organocatalysis\"',\n",
       "    'share': '2'},\n",
       "   {'id': '1003',\n",
       "    'firstname': 'David',\n",
       "    'surname': 'MacMillan',\n",
       "    'motivation': '\"for the development of asymmetric organocatalysis\"',\n",
       "    'share': '2'}]},\n",
       " {'year': '2021',\n",
       "  'category': 'economics',\n",
       "  'laureates': [{'id': '1007',\n",
       "    'firstname': 'David',\n",
       "    'surname': 'Card',\n",
       "    'motivation': '\"for his empirical contributions  to labour economics\"',\n",
       "    'share': '2'},\n",
       "   {'id': '1008',\n",
       "    'firstname': 'Joshua',\n",
       "    'surname': 'Angrist',\n",
       "    'motivation': '\"for their methodological contributions to the analysis  of causal relationships\"',\n",
       "    'share': '4'},\n",
       "   {'id': '1009',\n",
       "    'firstname': 'Guido',\n",
       "    'surname': 'Imbens',\n",
       "    'motivation': '\"for their methodological contributions to the analysis  of causal relationships\"',\n",
       "    'share': '4'}]},\n",
       " {'year': '2021',\n",
       "  'category': 'literature',\n",
       "  'laureates': [{'id': '1004',\n",
       "    'firstname': 'Abdulrazak',\n",
       "    'surname': 'Gurnah',\n",
       "    'motivation': '\"for his uncompromising and compassionate penetration of the effects of colonialism and the  fate of the refugee in the gulf between cultures and continents\"',\n",
       "    'share': '1'}]},\n",
       " {'year': '2021',\n",
       "  'category': 'peace',\n",
       "  'laureates': [{'id': '1005',\n",
       "    'firstname': 'Maria',\n",
       "    'surname': 'Ressa',\n",
       "    'motivation': '\"for their efforts to safeguard freedom of expression, which  is a precondition for democracy and lasting peace\"',\n",
       "    'share': '2'},\n",
       "   {'id': '1006',\n",
       "    'firstname': 'Dmitry',\n",
       "    'surname': 'Muratov',\n",
       "    'motivation': '\"for their efforts to safeguard freedom of expression, which  is a precondition for democracy and lasting peace\"',\n",
       "    'share': '2'}]},\n",
       " {'year': '2021',\n",
       "  'category': 'physics',\n",
       "  'overallMotivation': '\"for groundbreaking contributions to our understanding of complex physical systems\"',\n",
       "  'laureates': [{'id': '999',\n",
       "    'firstname': 'Syukuro',\n",
       "    'surname': 'Manabe',\n",
       "    'motivation': '\"for the physical modelling of Earth’s climate, quantifying variability and reliably predicting global warming\"',\n",
       "    'share': '4'},\n",
       "   {'id': '1000',\n",
       "    'firstname': 'Klaus',\n",
       "    'surname': 'Hasselmann',\n",
       "    'motivation': '\"for the physical modelling of Earth’s climate, quantifying variability and reliably predicting global warming\"',\n",
       "    'share': '4'},\n",
       "   {'id': '1001',\n",
       "    'firstname': 'Giorgio',\n",
       "    'surname': 'Parisi',\n",
       "    'motivation': '\"for the discovery of the interplay of disorder and fluctuations in physical systems from atomic to planetary scales\"',\n",
       "    'share': '2'}]},\n",
       " {'year': '2021',\n",
       "  'category': 'medicine',\n",
       "  'laureates': [{'id': '997',\n",
       "    'firstname': 'David',\n",
       "    'surname': 'Julius',\n",
       "    'motivation': '\"for their discoveries of receptors for temperature and touch\"',\n",
       "    'share': '2'},\n",
       "   {'id': '998',\n",
       "    'firstname': 'Ardem',\n",
       "    'surname': 'Patapoutian',\n",
       "    'motivation': '\"for their discoveries of receptors for temperature and touch\"',\n",
       "    'share': '2'}]}]"
      ]
     },
     "execution_count": 26,
     "metadata": {},
     "output_type": "execute_result"
    }
   ],
   "source": [
    "nobels_2021 = [prize for prize in nobels['prizes'] if prize['year'] == '2021']\n",
    "nobels_2021"
   ]
  },
  {
   "cell_type": "code",
   "execution_count": 25,
   "id": "eac9076e-4c4e-48e8-b11e-5a03ae966c95",
   "metadata": {},
   "outputs": [
    {
     "name": "stdout",
     "output_type": "stream",
     "text": [
      "Chemistry: Benjamin List, David MacMillan\n",
      "Economics: David Card, Joshua Angrist, Guido Imbens\n",
      "Literature: Abdulrazak Gurnah\n",
      "Peace: Maria Ressa, Dmitry Muratov\n",
      "Physics: Syukuro Manabe, Klaus Hasselmann, Giorgio Parisi\n",
      "Medicine: David Julius, Ardem Patapoutian\n"
     ]
    }
   ],
   "source": [
    "for prize in nobels_2021:\n",
    "    print(prize['category'].capitalize() + ': ',end='')\n",
    "    winners = [winner['firstname']+' '+winner['surname'] for winner in prize['laureates']]\n",
    "    print(', '.join(winners))"
   ]
  },
  {
   "cell_type": "code",
   "execution_count": 28,
   "id": "09ee34f3-cfe9-4dbb-8c8c-18300390b856",
   "metadata": {},
   "outputs": [
    {
     "name": "stdout",
     "output_type": "stream",
     "text": [
      "Chemistry: Emmanuelle Charpentier, Jennifer A. Doudna\n",
      "Economics: Paul Milgrom, Robert Wilson\n",
      "Literature: Louise Glück\n",
      "Peace: World Food Programme \n",
      "Physics: Roger Penrose, Reinhard Genzel, Andrea Ghez\n",
      "Medicine: Harvey Alter, Michael Houghton, Charles Rice\n"
     ]
    }
   ],
   "source": [
    "nobels_2020 = [prize for prize in nobels['prizes'] if prize['year'] == '2020']\n",
    "for prize in nobels_2020:\n",
    "    print(prize['category'].capitalize() + ': ',end='')\n",
    "    winners = [winner['firstname']+' '+winner.get('surname', '') for winner in prize['laureates']]\n",
    "    print(', '.join(winners))"
   ]
  },
  {
   "cell_type": "code",
   "execution_count": 34,
   "id": "44d69345-0d74-4547-899e-2ed0f01753c3",
   "metadata": {},
   "outputs": [],
   "source": [
    "def getword(token):\n",
    "    token = token.strip(',.')\n",
    "    if not token.isalpha():\n",
    "        return None\n",
    "    if len(token) < 4:\n",
    "        return None\n",
    "    return token.lower()"
   ]
  },
  {
   "cell_type": "code",
   "execution_count": 39,
   "id": "9bf287ab-4017-460c-a461-d429253b802a",
   "metadata": {},
   "outputs": [],
   "source": [
    "from collections import Counter\n",
    "\n",
    "unique_words = set()\n",
    "word_count = Counter()\n",
    "for line in open('Lectures/metamorphosis.txt'):\n",
    "    tokens = line.split() # default separator is whitespace\n",
    "    for token in tokens:\n",
    "        word = getword(token)\n",
    "        if word:\n",
    "            unique_words.add(word)\n",
    "            word_count.update([word])"
   ]
  },
  {
   "cell_type": "code",
   "execution_count": 41,
   "id": "cd5c9e85-d478-4a44-a516-73c24fbe0ae9",
   "metadata": {},
   "outputs": [
    {
     "name": "stdout",
     "output_type": "stream",
     "text": [
      "{'himself', 'unable', 'drops', 'when', 'this', 'position', 'where', 'forget', 'tried', 'that', 'legs', 'there', 'onto', 'window', 'feel', 'hitting', 'because', 'threw', 'times', 'pain', 'rain', 'could', 'pane', 'back', 'about', 'hard', 'before', 'must', 'made', 'shut', 'heard', 'always', 'used', 'dull', 'thought', 'eyes', 'which', 'little', 'stopped', 'began', 'have', 'mild', 'then', 'sleeping', 'quite', 'gregor', 'something', 'nonsense', 'right', 'only', 'felt', 'however', 'into', 'floundering', 'rolled', 'sleep', 'hundred', 'never', 'state', 'turned', 'weather', 'look', 'longer', 'present'}\n"
     ]
    }
   ],
   "source": [
    "print(unique_words)"
   ]
  },
  {
   "cell_type": "code",
   "execution_count": 42,
   "id": "174d1ef9-2705-4100-b60b-14cfa70f7290",
   "metadata": {},
   "outputs": [
    {
     "name": "stdout",
     "output_type": "stream",
     "text": [
      "['about', 'always', 'back', 'because', 'before', 'began', 'could', 'drops', 'dull', 'eyes', 'feel', 'felt', 'floundering', 'forget', 'gregor', 'hard', 'have', 'heard', 'himself', 'hitting', 'however', 'hundred', 'into', 'legs', 'little', 'longer', 'look', 'made', 'mild', 'must', 'never', 'nonsense', 'only', 'onto', 'pain', 'pane', 'position', 'present', 'quite', 'rain', 'right', 'rolled', 'shut', 'sleep', 'sleeping', 'something', 'state', 'stopped', 'that', 'then', 'there', 'this', 'thought', 'threw', 'times', 'tried', 'turned', 'unable', 'used', 'weather', 'when', 'where', 'which', 'window']\n"
     ]
    }
   ],
   "source": [
    "print(sorted(unique_words))"
   ]
  },
  {
   "cell_type": "code",
   "execution_count": 43,
   "id": "ba62d241-a8f7-4d5c-b00e-88a378505884",
   "metadata": {},
   "outputs": [],
   "source": [
    "import timeit"
   ]
  },
  {
   "cell_type": "code",
   "execution_count": 51,
   "id": "b729a48c-8e2a-4a2d-907c-6670cac1ecd5",
   "metadata": {},
   "outputs": [
    {
     "data": {
      "text/plain": [
       "0.6746841609997318"
      ]
     },
     "execution_count": 51,
     "metadata": {},
     "output_type": "execute_result"
    }
   ],
   "source": [
    "timeit.timeit('89232 in [x for x in range(10000) if x%3 == 0]', number = 1000)"
   ]
  },
  {
   "cell_type": "code",
   "execution_count": 47,
   "id": "b8ecf8a6-1d82-47d6-a3d8-339cb7e1c079",
   "metadata": {},
   "outputs": [
    {
     "data": {
      "text/plain": [
       "0.007293607000065094"
      ]
     },
     "execution_count": 47,
     "metadata": {},
     "output_type": "execute_result"
    }
   ],
   "source": [
    "timeit.timeit('89232 in set([x for x in range(10000) if x%3 == 0])', number = 10)"
   ]
  },
  {
   "cell_type": "code",
   "execution_count": 52,
   "id": "821895da-8b88-4519-a7db-ad6e60b9c93b",
   "metadata": {},
   "outputs": [],
   "source": [
    "import random"
   ]
  },
  {
   "cell_type": "code",
   "execution_count": 53,
   "id": "7f1c5cf9-54b8-4006-9c00-2b53980acc88",
   "metadata": {},
   "outputs": [],
   "source": [
    "articles = [\"the\", \"a\"]\n",
    "subjects = [\"man\", \"woman\", \"boy\", \"girl\", \"scientist\", \"loser\", \"poser\"]\n",
    "verbs = [\"jumped\", \"sang\", \"ran\", \"cried\", \"laughed\", \"played\", \"programmed\"]\n",
    "adverbs = [\"loudly\", \"badly\", \"heavily\", \"softly\", \"madly\", \"sadly\"]"
   ]
  },
  {
   "cell_type": "code",
   "execution_count": 65,
   "id": "ef773897-e7cb-451a-89ec-828261e22f11",
   "metadata": {},
   "outputs": [
    {
     "name": "stdout",
     "output_type": "stream",
     "text": [
      "the boy played loudly\n",
      "the scientist played\n",
      "the poser played madly\n",
      "a scientist jumped sadly\n",
      "the man played madly\n",
      "a woman programmed\n"
     ]
    }
   ],
   "source": [
    "line = 1\n",
    "while line < 7:\n",
    "    str = \"\"\n",
    "    str += random.choice(articles)\n",
    "    str += ' ' + random.choice(subjects)\n",
    "    str += ' ' + random.choice(verbs)\n",
    "    adv = random.randint(0,1)\n",
    "    if adv: \n",
    "        str += ' ' + random.choice(adverbs)\n",
    "    print(str)\n",
    "    line += 1"
   ]
  },
  {
   "cell_type": "code",
   "execution_count": null,
   "id": "efed038a-d2e7-4a2e-946c-a21a65932d93",
   "metadata": {},
   "outputs": [],
   "source": []
  }
 ],
 "metadata": {
  "kernelspec": {
   "display_name": "Python 3",
   "language": "python",
   "name": "python3"
  },
  "language_info": {
   "codemirror_mode": {
    "name": "ipython",
    "version": 3
   },
   "file_extension": ".py",
   "mimetype": "text/x-python",
   "name": "python",
   "nbconvert_exporter": "python",
   "pygments_lexer": "ipython3",
   "version": "3.8.8"
  }
 },
 "nbformat": 4,
 "nbformat_minor": 5
}
